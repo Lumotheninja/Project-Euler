{
 "cells": [
  {
   "cell_type": "markdown",
   "metadata": {},
   "source": [
    "The minimal path sum in the 5 by 5 matrix below, by starting in any cell in the left column and finishing in any cell in the right column, and only moving up, down, and right, is indicated in red and bold; the sum is equal to 994.\n",
    "\n",
    "Find the minimal path sum from the left column to the right column in matrix.txt (right click and \"Save Link/Target As...\"), a 31K text file containing an 80 by 80 matrix."
   ]
  },
  {
   "cell_type": "code",
   "execution_count": 101,
   "metadata": {},
   "outputs": [],
   "source": [
    "with open('p082_matrix.txt') as file:\n",
    "    path_list = [line.strip('\\n').split(',') for line in file.readlines()]"
   ]
  },
  {
   "cell_type": "code",
   "execution_count": 102,
   "metadata": {},
   "outputs": [],
   "source": [
    "n = 80\n",
    "cost_list = [[0]*(n+1) for i in range(n+2)]\n",
    "# padding\n",
    "for i in range(n+1):\n",
    "    cost_list[0][i] = 10000000\n",
    "    cost_list[-1][i] = 10000000\n",
    "    cost_list[i+1][0] = 10000000\n",
    "cost_list[1][1] = int(path_list[0][0])\n",
    "path_list.insert(0,[1000000 for x in range(n)])\n",
    "path_list.append([10000000 for x in range(n)])\n",
    "for row in path_list:\n",
    "    row.insert(0, 0)"
   ]
  },
  {
   "cell_type": "code",
   "execution_count": 108,
   "metadata": {},
   "outputs": [],
   "source": [
    "for col in range(1,n+1):\n",
    "    for x in range(n):\n",
    "        for row in range(1,n+1):\n",
    "            if col == 1:\n",
    "                cost_list[row][col] = int(path_list[row][col])\n",
    "            else:\n",
    "                if x == 0:\n",
    "                    cost_list[row][col] = cost_list[row][col-1] + int(path_list[row][col])\n",
    "                else:\n",
    "                    cost_list[row][col] = min(cost_list[row][col], cost_list[row-1][col] + int(path_list[row][col]), cost_list[row+1][col] + int(path_list[row][col]))"
   ]
  },
  {
   "cell_type": "code",
   "execution_count": 109,
   "metadata": {},
   "outputs": [
    {
     "name": "stdout",
     "output_type": "stream",
     "text": [
      "10000000\n",
      "270020\n",
      "277393\n",
      "283631\n",
      "279174\n",
      "276987\n",
      "273087\n",
      "274012\n",
      "279748\n",
      "272160\n",
      "274937\n",
      "268778\n",
      "267381\n",
      "268381\n",
      "271114\n",
      "264442\n",
      "266537\n",
      "274396\n",
      "270001\n",
      "269459\n",
      "266384\n",
      "269660\n",
      "262673\n",
      "260324\n",
      "267939\n",
      "261741\n",
      "267007\n",
      "266675\n",
      "268645\n",
      "275815\n",
      "272485\n",
      "267954\n",
      "267215\n",
      "262946\n",
      "262222\n",
      "266095\n",
      "268613\n",
      "266995\n",
      "263714\n",
      "270379\n",
      "272435\n",
      "280524\n",
      "286697\n",
      "284447\n",
      "284238\n",
      "285545\n",
      "292465\n",
      "288790\n",
      "287565\n",
      "286589\n",
      "281157\n",
      "288650\n",
      "284593\n",
      "287558\n",
      "287800\n",
      "282192\n",
      "279450\n",
      "285857\n",
      "288044\n",
      "290710\n",
      "295939\n",
      "297568\n",
      "296445\n",
      "293284\n",
      "291200\n",
      "292215\n",
      "296620\n",
      "303211\n",
      "300944\n",
      "296464\n",
      "301388\n",
      "300833\n",
      "298300\n",
      "302658\n",
      "299537\n",
      "308299\n",
      "300858\n",
      "298800\n",
      "299484\n",
      "301092\n",
      "306690\n",
      "10000000\n"
     ]
    },
    {
     "data": {
      "text/plain": [
       "260324"
      ]
     },
     "execution_count": 109,
     "metadata": {},
     "output_type": "execute_result"
    }
   ],
   "source": [
    "min_val = 10000000\n",
    "for x in cost_list:\n",
    "    print(x[-1])\n",
    "    if x[-1] < min_val:\n",
    "        min_val = x[-1]\n",
    "min_val"
   ]
  },
  {
   "cell_type": "markdown",
   "metadata": {},
   "source": [
    "# Final answer: 260324"
   ]
  },
  {
   "cell_type": "code",
   "execution_count": null,
   "metadata": {},
   "outputs": [],
   "source": []
  }
 ],
 "metadata": {
  "kernelspec": {
   "display_name": "Python 3",
   "language": "python",
   "name": "python3"
  },
  "language_info": {
   "codemirror_mode": {
    "name": "ipython",
    "version": 3
   },
   "file_extension": ".py",
   "mimetype": "text/x-python",
   "name": "python",
   "nbconvert_exporter": "python",
   "pygments_lexer": "ipython3",
   "version": "3.7.5"
  }
 },
 "nbformat": 4,
 "nbformat_minor": 2
}
