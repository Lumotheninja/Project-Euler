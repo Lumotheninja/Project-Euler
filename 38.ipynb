{
 "cells": [
  {
   "cell_type": "code",
   "execution_count": 3,
   "metadata": {},
   "outputs": [],
   "source": [
    "for x in range(90,100):\n",
    "    number_str = ''\n",
    "    multiplier = 1 \n",
    "    while len(number_str) < 9:\n",
    "        number_str += str(x*multiplier)\n",
    "        multiplier += 1\n",
    "    if len(number_str) == 9:\n",
    "        pandigital = True\n",
    "        for y in range(1,10):\n",
    "            if str(y) not in number_str:\n",
    "                pandigital = False\n",
    "                break\n",
    "        if pandigital:\n",
    "            print(number_str)"
   ]
  },
  {
   "cell_type": "code",
   "execution_count": 4,
   "metadata": {},
   "outputs": [
    {
     "name": "stdout",
     "output_type": "stream",
     "text": [
      "926718534\n",
      "927318546\n",
      "932718654\n"
     ]
    }
   ],
   "source": [
    "for x in range(9000,10000):\n",
    "    number_str = ''\n",
    "    multiplier = 1 \n",
    "    while len(number_str) < 9:\n",
    "        number_str += str(x*multiplier)\n",
    "        multiplier += 1\n",
    "    if len(number_str) == 9:\n",
    "        pandigital = True\n",
    "        for y in range(1,10):\n",
    "            if str(y) not in number_str:\n",
    "                pandigital = False\n",
    "                break\n",
    "        if pandigital:\n",
    "            print(number_str)"
   ]
  },
  {
   "cell_type": "markdown",
   "metadata": {},
   "source": [
    "# Final answer: 932718654"
   ]
  },
  {
   "cell_type": "code",
   "execution_count": null,
   "metadata": {},
   "outputs": [],
   "source": []
  }
 ],
 "metadata": {
  "kernelspec": {
   "display_name": "Python 3",
   "language": "python",
   "name": "python3"
  },
  "language_info": {
   "codemirror_mode": {
    "name": "ipython",
    "version": 3
   },
   "file_extension": ".py",
   "mimetype": "text/x-python",
   "name": "python",
   "nbconvert_exporter": "python",
   "pygments_lexer": "ipython3",
   "version": "3.5.0"
  }
 },
 "nbformat": 4,
 "nbformat_minor": 2
}
