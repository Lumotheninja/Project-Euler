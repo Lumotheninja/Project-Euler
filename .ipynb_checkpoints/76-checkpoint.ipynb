{
 "cells": [
  {
   "cell_type": "markdown",
   "metadata": {},
   "source": [
    "It is possible to write five as a sum in exactly six different ways:\n",
    "\n",
    "4 + 1  \n",
    "3 + 2  \n",
    "3 + 1 + 1  \n",
    "2 + 2 + 1  \n",
    "2 + 1 + 1 + 1  \n",
    "1 + 1 + 1 + 1 + 1  \n",
    "\n",
    "How many different ways can one hundred be written as a sum of at least two positive integers?"
   ]
  },
  {
   "cell_type": "code",
   "execution_count": 58,
   "metadata": {},
   "outputs": [],
   "source": [
    "table = [[0 for x in range(101)] for y in range(101)]\n",
    "table[0] = [1 for x in range(101)]"
   ]
  },
  {
   "cell_type": "code",
   "execution_count": 59,
   "metadata": {},
   "outputs": [],
   "source": [
    "for i in range(1,101):\n",
    "    for j in range(1,101):\n",
    "        if (j > i):\n",
    "            table[i][j] = table[i][j - 1];\n",
    "        else:\n",
    "            table[i][j] = table[i][j - 1] + table[i - j][j]"
   ]
  },
  {
   "cell_type": "code",
   "execution_count": 60,
   "metadata": {},
   "outputs": [
    {
     "data": {
      "text/plain": [
       "190569292"
      ]
     },
     "execution_count": 60,
     "metadata": {},
     "output_type": "execute_result"
    }
   ],
   "source": [
    "table[100][100]"
   ]
  },
  {
   "cell_type": "markdown",
   "metadata": {},
   "source": [
    "# Final answer: 190569291"
   ]
  },
  {
   "cell_type": "code",
   "execution_count": null,
   "metadata": {},
   "outputs": [],
   "source": []
  }
 ],
 "metadata": {
  "kernelspec": {
   "display_name": "Python 3",
   "language": "python",
   "name": "python3"
  },
  "language_info": {
   "codemirror_mode": {
    "name": "ipython",
    "version": 3
   },
   "file_extension": ".py",
   "mimetype": "text/x-python",
   "name": "python",
   "nbconvert_exporter": "python",
   "pygments_lexer": "ipython3",
   "version": "3.7.5"
  }
 },
 "nbformat": 4,
 "nbformat_minor": 2
}
