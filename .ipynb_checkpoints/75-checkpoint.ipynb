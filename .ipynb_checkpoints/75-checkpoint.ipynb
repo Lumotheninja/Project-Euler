{
 "cells": [
  {
   "cell_type": "code",
   "execution_count": 1,
   "metadata": {},
   "outputs": [],
   "source": [
    "hcf_dict = {}\n",
    "\n",
    "def hcf(x, y):\n",
    "    while(y):\n",
    "        if (x,y) not in hcf_dict:\n",
    "            hcf_dict[(x, y)] = (y, x % y)\n",
    "        x,y = hcf_dict[(x,y)]    \n",
    "    return x"
   ]
  },
  {
   "cell_type": "code",
   "execution_count": 4,
   "metadata": {},
   "outputs": [],
   "source": [
    "def both_odd(x, y):\n",
    "    return x%2 ==1 and y%2==1"
   ]
  },
  {
   "cell_type": "code",
   "execution_count": 6,
   "metadata": {},
   "outputs": [],
   "source": [
    "from collections import defaultdict\n",
    "import math\n",
    "\n",
    "p_dict = defaultdict(int)\n",
    "l = 1500000\n",
    "\n",
    "for k in range(1, math.ceil(l/4)+1):\n",
    "    for m in range(1, 100000000):\n",
    "        if k*(2*m**2 + 2*m) > l:\n",
    "            break\n",
    "        for n in range(1, m):\n",
    "            if both_odd(m,n) or hcf(m,n) != 1:\n",
    "                continue\n",
    "            p = k*(2*m**2 + 2*m*n)\n",
    "            if p > l:\n",
    "                break\n",
    "            else:\n",
    "                p_dict[p] += 1\n",
    "        "
   ]
  },
  {
   "cell_type": "code",
   "execution_count": 7,
   "metadata": {},
   "outputs": [
    {
     "data": {
      "text/plain": [
       "161667"
      ]
     },
     "execution_count": 7,
     "metadata": {},
     "output_type": "execute_result"
    }
   ],
   "source": [
    "count = 0\n",
    "for val in p_dict.values():\n",
    "    if val == 1:\n",
    "        count += 1\n",
    "        \n",
    "count"
   ]
  },
  {
   "cell_type": "code",
   "execution_count": null,
   "metadata": {},
   "outputs": [],
   "source": []
  }
 ],
 "metadata": {
  "kernelspec": {
   "display_name": "Python 3",
   "language": "python",
   "name": "python3"
  },
  "language_info": {
   "codemirror_mode": {
    "name": "ipython",
    "version": 3
   },
   "file_extension": ".py",
   "mimetype": "text/x-python",
   "name": "python",
   "nbconvert_exporter": "python",
   "pygments_lexer": "ipython3",
   "version": "3.7.5"
  }
 },
 "nbformat": 4,
 "nbformat_minor": 2
}
