{
 "cells": [
  {
   "cell_type": "markdown",
   "metadata": {},
   "source": [
    "Consider the fraction, n/d, where n and d are positive integers. If n<d and HCF(n,d)=1, it is called a reduced proper fraction.  \n",
    "\n",
    "If we list the set of reduced proper fractions for d ≤ 8 in ascending order of size, we get:  \n",
    "\n",
    "1/8, 1/7, 1/6, 1/5, 1/4, 2/7, 1/3, 3/8, 2/5, 3/7, 1/2, 4/7, 3/5, 5/8, 2/3, 5/7, 3/4, 4/5, 5/6, 6/7, 7/8  \n",
    "\n",
    "It can be seen that 2/5 is the fraction immediately to the left of 3/7.  \n",
    "\n",
    "By listing the set of reduced proper fractions for d ≤ 1,000,000 in ascending order of size, find the numerator of the fraction immediately to the left of 3/7."
   ]
  },
  {
   "cell_type": "markdown",
   "metadata": {},
   "source": [
    "Sieve of Erosthenes"
   ]
  },
  {
   "cell_type": "code",
   "execution_count": 26,
   "metadata": {},
   "outputs": [],
   "source": [
    "n = 1000000\n",
    "\n",
    "prime = [True for i in range(n + 1)] \n",
    "best_num_dict = {}\n",
    "p = 2\n",
    "while (p * 2 <= n): \n",
    "    if prime[p]: \n",
    "                \n",
    "        for i in range(p * 2, n + 1, p): \n",
    "            prime[i] = False\n",
    "    p += 1"
   ]
  },
  {
   "cell_type": "code",
   "execution_count": 27,
   "metadata": {},
   "outputs": [],
   "source": [
    "hcf_dict = {}\n",
    "\n",
    "def hcf(x, y):\n",
    "    while(y):\n",
    "        if (x,y) not in hcf_dict:\n",
    "            hcf_dict[(x, y)] = (y, x % y)\n",
    "        x,y = hcf_dict[(x,y)]    \n",
    "    return x"
   ]
  },
  {
   "cell_type": "code",
   "execution_count": 31,
   "metadata": {},
   "outputs": [
    {
     "name": "stderr",
     "output_type": "stream",
     "text": [
      "\n",
      "KeyboardInterrupt\n",
      "\n"
     ]
    }
   ],
   "source": [
    "left = 2/5\n",
    "left_num = 2\n",
    "right = 3/7\n",
    "\n",
    "num = 1\n",
    "denom = 2\n",
    "\n",
    "while denom <= 1000000:\n",
    "    if prime[denom]:\n",
    "        for num in range(1, denom):\n",
    "            frac = num/denom\n",
    "            if num/denom > left and frac < right:\n",
    "                left = frac\n",
    "                left_num = num\n",
    "            elif frac > right:\n",
    "                denom += 1\n",
    "                num = 0\n",
    "    elif hcf(num, denom) == 1:\n",
    "        frac = num/denom\n",
    "        if frac > left and frac < right:\n",
    "            left = frac\n",
    "            left_num = num\n",
    "        elif frac > right:\n",
    "            denom += 1\n",
    "            num = 0\n",
    "    elif num == denom:\n",
    "        denom += 1\n",
    "        num = 0\n",
    "    num += 1"
   ]
  },
  {
   "cell_type": "markdown",
   "metadata": {},
   "source": [
    "# Final answer: 428570"
   ]
  },
  {
   "cell_type": "code",
   "execution_count": null,
   "metadata": {},
   "outputs": [],
   "source": []
  }
 ],
 "metadata": {
  "kernelspec": {
   "display_name": "Python 3",
   "language": "python",
   "name": "python3"
  },
  "language_info": {
   "codemirror_mode": {
    "name": "ipython",
    "version": 3
   },
   "file_extension": ".py",
   "mimetype": "text/x-python",
   "name": "python",
   "nbconvert_exporter": "python",
   "pygments_lexer": "ipython3",
   "version": "3.7.5"
  }
 },
 "nbformat": 4,
 "nbformat_minor": 2
}
