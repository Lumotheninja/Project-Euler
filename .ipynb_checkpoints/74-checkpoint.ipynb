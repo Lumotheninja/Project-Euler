{
 "cells": [
  {
   "cell_type": "markdown",
   "metadata": {},
   "source": [
    "The number 145 is well known for the property that the sum of the factorial of its digits is equal to 145:\n",
    "\n",
    "1! + 4! + 5! = 1 + 24 + 120 = 145\n",
    "\n",
    "Perhaps less well known is 169, in that it produces the longest chain of numbers that link back to 169; it turns out that there are only three such loops that exist:\n",
    "\n",
    "169 → 363601 → 1454 → 169  \n",
    "871 → 45361 → 871  \n",
    "872 → 45362 → 872  \n",
    "\n",
    "It is not difficult to prove that EVERY starting number will eventually get stuck in a loop. For example,\n",
    "\n",
    "69 → 363600 → 1454 → 169 → 363601 (→ 1454)\n",
    "78 → 45360 → 871 → 45361 (→ 871)\n",
    "540 → 145 (→ 145)\n",
    "\n",
    "Starting with 69 produces a chain of five non-repeating terms, but the longest non-repeating chain with a starting number below one million is sixty terms.\n",
    "\n",
    "How many chains, with a starting number below one million, contain exactly sixty non-repeating terms?"
   ]
  },
  {
   "cell_type": "code",
   "execution_count": 2,
   "metadata": {},
   "outputs": [
    {
     "name": "stdout",
     "output_type": "stream",
     "text": [
      "0 5\n",
      "1 4\n",
      "2 3\n",
      "3 2\n",
      "4 1\n"
     ]
    }
   ],
   "source": [
    "a = [1,2,3,4,5]\n",
    "for idx, x in enumerate(a[::-1]):\n",
    "    print(idx,x)"
   ]
  },
  {
   "cell_type": "code",
   "execution_count": 58,
   "metadata": {},
   "outputs": [],
   "source": [
    "import math\n",
    "\n",
    "ans = 0\n",
    "loop_dict = {}\n",
    "\n",
    "loop_dict[169] = 3\n",
    "loop_dict[363601] = 3\n",
    "loop_dict[1454] = 3\n",
    "loop_dict[871] = 2\n",
    "loop_dict[45361] = 2\n",
    "loop_dict[872] = 2\n",
    "loop_dict[45362] = 2\n",
    "\n",
    "for x in range(1,1000001):\n",
    "    # print(x, end=\"\\r\")\n",
    "    if x in loop_dict:\n",
    "        continue\n",
    "    num_list = [x]\n",
    "    found = False\n",
    "    while not found:\n",
    "        count = 0\n",
    "        for char in str(num_list[-1]):\n",
    "            count += math.factorial(int(char))\n",
    "        count = int(count)\n",
    "        \n",
    "        if x== 363600:\n",
    "            print(num_list)\n",
    "        \n",
    "        if count in loop_dict:\n",
    "            found_num = loop_dict[count]\n",
    "            found = True\n",
    "        elif count == num_list[-1]:\n",
    "            loop_dict[count] = 1\n",
    "            num_list = num_list[:-1]\n",
    "            found_num = 0\n",
    "            found = True\n",
    "        else:\n",
    "            num_list.append(count)\n",
    "    if len(num_list) > 60:\n",
    "        print (len(num_list))\n",
    "    for idx, num in enumerate(num_list[::-1]):\n",
    "        loop_dict[num] = found_num + idx + 1\n",
    "        if loop_dict[num] == 60 and num < 1000001:\n",
    "            ans += 1"
   ]
  },
  {
   "cell_type": "code",
   "execution_count": 59,
   "metadata": {},
   "outputs": [
    {
     "data": {
      "text/plain": [
       "402"
      ]
     },
     "execution_count": 59,
     "metadata": {},
     "output_type": "execute_result"
    }
   ],
   "source": [
    "ans"
   ]
  },
  {
   "cell_type": "code",
   "execution_count": null,
   "metadata": {},
   "outputs": [],
   "source": []
  }
 ],
 "metadata": {
  "kernelspec": {
   "display_name": "Python 3",
   "language": "python",
   "name": "python3"
  },
  "language_info": {
   "codemirror_mode": {
    "name": "ipython",
    "version": 3
   },
   "file_extension": ".py",
   "mimetype": "text/x-python",
   "name": "python",
   "nbconvert_exporter": "python",
   "pygments_lexer": "ipython3",
   "version": "3.7.5"
  }
 },
 "nbformat": 4,
 "nbformat_minor": 2
}
