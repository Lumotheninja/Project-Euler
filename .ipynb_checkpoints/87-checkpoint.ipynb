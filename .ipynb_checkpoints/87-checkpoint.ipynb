{
 "cells": [
  {
   "cell_type": "markdown",
   "metadata": {},
   "source": [
    "The smallest number expressible as the sum of a prime square, prime cube, and prime fourth power is 28. In fact, there are exactly four numbers below fifty that can be expressed in such a way:\n",
    "\n",
    "28 = 2<sup>2</sup> + 2<sup>3</sup> + 2<sup>4</sup>  \n",
    "33 = 3<sup>2</sup> + 2<sup>3</sup> + 2<sup>4</sup>  \n",
    "49 = 5<sup>2</sup> + 2<sup>3</sup> + 2<sup>4</sup>  \n",
    "47 = 2<sup>2</sup> + 3<sup>3</sup> + 2<sup>4</sup>  \n",
    "\n",
    "How many numbers below fifty million can be expressed as the sum of a prime square, prime cube, and prime fourth power?"
   ]
  },
  {
   "cell_type": "code",
   "execution_count": 7,
   "metadata": {},
   "outputs": [],
   "source": [
    "n = 7072\n",
    "prime_list = []\n",
    "prime = [True for i in range(n + 1)] \n",
    "\n",
    "p = 2\n",
    "while (p <= n): \n",
    "\n",
    "    if (prime[p]): \n",
    "        prime_list.append(p)\n",
    "        for i in range(p * 2, n + 1, p): \n",
    "            prime[i] = False\n",
    "    p += 1"
   ]
  },
  {
   "cell_type": "code",
   "execution_count": 22,
   "metadata": {},
   "outputs": [
    {
     "data": {
      "text/plain": [
       "2"
      ]
     },
     "execution_count": 22,
     "metadata": {},
     "output_type": "execute_result"
    }
   ],
   "source": [
    "prime_list[0]"
   ]
  },
  {
   "cell_type": "code",
   "execution_count": 24,
   "metadata": {},
   "outputs": [],
   "source": [
    "count = 0\n",
    "num_dict = {}\n",
    "\n",
    "for square in prime_list:\n",
    "    for cube in prime_list:\n",
    "        cube_num = square**2 + cube**3\n",
    "        if cube_num >= 50000000:\n",
    "            break\n",
    "        for quad in prime_list:\n",
    "            quad_num = square**2 + cube**3 + quad**4\n",
    "            if quad_num < 50000000 and quad_num not in num_dict:\n",
    "                num_dict[quad_num] = True\n",
    "                count += 1\n",
    "            elif quad_num >= 50000000:\n",
    "                break"
   ]
  },
  {
   "cell_type": "code",
   "execution_count": 25,
   "metadata": {},
   "outputs": [
    {
     "data": {
      "text/plain": [
       "1097343"
      ]
     },
     "execution_count": 25,
     "metadata": {},
     "output_type": "execute_result"
    }
   ],
   "source": [
    "count"
   ]
  },
  {
   "cell_type": "code",
   "execution_count": 18,
   "metadata": {},
   "outputs": [
    {
     "data": {
      "text/plain": [
       "7069"
      ]
     },
     "execution_count": 18,
     "metadata": {},
     "output_type": "execute_result"
    }
   ],
   "source": [
    "prime_list[-1]"
   ]
  },
  {
   "cell_type": "code",
   "execution_count": null,
   "metadata": {},
   "outputs": [],
   "source": []
  }
 ],
 "metadata": {
  "kernelspec": {
   "display_name": "Python 3",
   "language": "python",
   "name": "python3"
  },
  "language_info": {
   "codemirror_mode": {
    "name": "ipython",
    "version": 3
   },
   "file_extension": ".py",
   "mimetype": "text/x-python",
   "name": "python",
   "nbconvert_exporter": "python",
   "pygments_lexer": "ipython3",
   "version": "3.7.5"
  }
 },
 "nbformat": 4,
 "nbformat_minor": 2
}
