{
 "cells": [
  {
   "cell_type": "markdown",
   "metadata": {},
   "source": [
    "The prime 41, can be written as the sum of six consecutive primes:\n",
    "\n",
    "41 = 2 + 3 + 5 + 7 + 11 + 13\n",
    "This is the longest sum of consecutive primes that adds to a prime below one-hundred.\n",
    "\n",
    "The longest sum of consecutive primes below one-thousand that adds to a prime, contains 21 terms, and is equal to 953.\n",
    "\n",
    "Which prime, below one-million, can be written as the sum of the most consecutive primes?"
   ]
  },
  {
   "cell_type": "code",
   "execution_count": 51,
   "metadata": {},
   "outputs": [],
   "source": [
    "n = 1000000\n",
    "\n",
    "\n",
    "prime = [0 for i in range(n + 1)] \n",
    "prime_list = []\n",
    "\n",
    "p = 2\n",
    "while (p <= n): \n",
    "\n",
    "    if (prime[p] == 0): \n",
    "        prime_list.append(p)\n",
    "        for i in range(p * 2, n + 1, p): \n",
    "            prime[i] += 1\n",
    "            \n",
    "    p += 1"
   ]
  },
  {
   "cell_type": "code",
   "execution_count": 70,
   "metadata": {},
   "outputs": [],
   "source": [
    "max_count = 0\n",
    "\n",
    "for ind in range(len(prime_list)):\n",
    "    count = 0\n",
    "    curr_num = prime_list[ind]\n",
    "    while (ind + count + 1) < len(prime_list):\n",
    "        count += 1\n",
    "        curr_num += prime_list[ind + count]\n",
    "        \n",
    "        if curr_num >= len(prime):\n",
    "            break\n",
    "        \n",
    "        if prime[curr_num] == 0 and (count > max_count):\n",
    "            max_count = count\n",
    "            max_prime = curr_num"
   ]
  },
  {
   "cell_type": "code",
   "execution_count": 71,
   "metadata": {},
   "outputs": [
    {
     "data": {
      "text/plain": [
       "997651"
      ]
     },
     "execution_count": 71,
     "metadata": {},
     "output_type": "execute_result"
    }
   ],
   "source": [
    "max_prime"
   ]
  },
  {
   "cell_type": "markdown",
   "metadata": {},
   "source": [
    "# Final answer: 997651"
   ]
  }
 ],
 "metadata": {
  "kernelspec": {
   "display_name": "Python 3",
   "language": "python",
   "name": "python3"
  },
  "language_info": {
   "codemirror_mode": {
    "name": "ipython",
    "version": 3
   },
   "file_extension": ".py",
   "mimetype": "text/x-python",
   "name": "python",
   "nbconvert_exporter": "python",
   "pygments_lexer": "ipython3",
   "version": "3.7.5"
  }
 },
 "nbformat": 4,
 "nbformat_minor": 2
}
