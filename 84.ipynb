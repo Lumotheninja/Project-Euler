{
 "cells": [
  {
   "cell_type": "code",
   "execution_count": 80,
   "metadata": {},
   "outputs": [],
   "source": [
    "import random\n",
    "\n",
    "def cc(x):\n",
    "    global ccdraw\n",
    "    ccdraw += 1\n",
    "    draw = ccdraw % 16\n",
    "    if draw == 0:\n",
    "        return 0\n",
    "    elif draw == 1:\n",
    "        return 10\n",
    "    else:\n",
    "        return x\n",
    "    \n",
    "def ch(x):\n",
    "    global chdraw\n",
    "    chdraw += 1\n",
    "    draw = chdraw % 16\n",
    "    if draw == 0:\n",
    "        return 0\n",
    "    elif draw == 1:\n",
    "        return 10\n",
    "    elif draw == 2:\n",
    "        return 11\n",
    "    elif draw == 3:\n",
    "        return 24\n",
    "    elif draw == 4:\n",
    "        return 39\n",
    "    elif draw == 5:\n",
    "        return 5\n",
    "    elif draw == 6:\n",
    "        if x%10 < 5:\n",
    "            return (x//10)*10 + 5\n",
    "        elif x > 35:\n",
    "            return 5\n",
    "        else:\n",
    "            return (x//10+1)*10 + 5\n",
    "    elif draw == 7:\n",
    "        if x%10 < 5:\n",
    "            return x//10*10 + 5\n",
    "        elif x > 35:\n",
    "            return 5\n",
    "        else:\n",
    "            return (x//10+1)*10 + 5\n",
    "    elif draw == 8:\n",
    "        if x > 28 or x < 12:\n",
    "            return 12\n",
    "        else:\n",
    "            return 28\n",
    "    elif draw == 9:\n",
    "        return x - 3\n",
    "    else:\n",
    "        return x"
   ]
  },
  {
   "cell_type": "code",
   "execution_count": 87,
   "metadata": {},
   "outputs": [],
   "source": [
    "square_freq = [0 for x in range(40)]\n",
    "prev_prev_double = False\n",
    "prev_double = False\n",
    "chdraw = 0\n",
    "ccdraw = 0\n",
    "curr_sq = 0\n",
    "\n",
    "for x in range(100000000):\n",
    "    #print (x, end=\"\\r\")\n",
    "    roll1 = random.randint(1,4)\n",
    "    roll2 = random.randint(1,4)\n",
    "    dice = roll1 + roll2\n",
    "    if roll1 == roll2 and prev_double and prev_prev_double:\n",
    "        next_sq = 10\n",
    "    else:\n",
    "        next_sq = curr_sq + dice\n",
    "        if next_sq >= 40:\n",
    "            next_sq -= 40\n",
    "        if next_sq in [2,17,33]:\n",
    "            next_sq = cc(next_sq)\n",
    "        elif next_sq in [7,22,36]:\n",
    "            next_sq = ch(next_sq)\n",
    "        elif next_sq == 30:\n",
    "            next_sq = 10\n",
    "    square_freq[next_sq] += 1\n",
    "    #print (curr_sq, dice, next_sq)\n",
    "    curr_sq = next_sq\n",
    "    prev_prev_double = prev_double\n",
    "    if roll1 == roll2:\n",
    "        prev_double = True\n",
    "    else:\n",
    "        prev_double = False"
   ]
  },
  {
   "cell_type": "code",
   "execution_count": null,
   "metadata": {},
   "outputs": [],
   "source": [
    "print (max(square_freq))"
   ]
  },
  {
   "cell_type": "code",
   "execution_count": 88,
   "metadata": {},
   "outputs": [
    {
     "data": {
      "text/plain": [
       "array([10, 15, 24, 16, 25, 19, 21], dtype=int64)"
      ]
     },
     "execution_count": 88,
     "metadata": {},
     "output_type": "execute_result"
    }
   ],
   "source": [
    "import numpy as np\n",
    "\n",
    "arr = np.array(square_freq)\n",
    "idx = (-arr).argsort()[:7]\n",
    "idx"
   ]
  },
  {
   "cell_type": "code",
   "execution_count": 86,
   "metadata": {},
   "outputs": [
    {
     "data": {
      "text/plain": [
       "309460"
      ]
     },
     "execution_count": 86,
     "metadata": {},
     "output_type": "execute_result"
    }
   ],
   "source": [
    "square_freq[19]"
   ]
  },
  {
   "cell_type": "code",
   "execution_count": 72,
   "metadata": {},
   "outputs": [
    {
     "data": {
      "text/plain": [
       "1"
      ]
     },
     "execution_count": 72,
     "metadata": {},
     "output_type": "execute_result"
    }
   ],
   "source": [
    "21%10"
   ]
  },
  {
   "cell_type": "code",
   "execution_count": null,
   "metadata": {},
   "outputs": [],
   "source": []
  }
 ],
 "metadata": {
  "kernelspec": {
   "display_name": "Python 3",
   "language": "python",
   "name": "python3"
  },
  "language_info": {
   "codemirror_mode": {
    "name": "ipython",
    "version": 3
   },
   "file_extension": ".py",
   "mimetype": "text/x-python",
   "name": "python",
   "nbconvert_exporter": "python",
   "pygments_lexer": "ipython3",
   "version": "3.7.5"
  }
 },
 "nbformat": 4,
 "nbformat_minor": 2
}
