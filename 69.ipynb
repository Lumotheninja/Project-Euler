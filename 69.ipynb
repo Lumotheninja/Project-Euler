{
 "cells": [
  {
   "cell_type": "markdown",
   "metadata": {},
   "source": [
    "Euler's Totient function, φ(n) [sometimes called the phi function], is used to determine the number of numbers less than n which are relatively prime to n. For example, as 1, 2, 4, 5, 7, and 8, are all less than nine and relatively prime to nine, φ(9)=6.\n",
    "\n",
    "n\tRelatively Prime\tφ(n)\tn/φ(n)  \n",
    "2\t1\t1\t2  \n",
    "3\t1,2\t2\t1.5  \n",
    "4\t1,3\t2\t2  \n",
    "5\t1,2,3,4\t4\t1.25  \n",
    "6\t1,5\t2\t3  \n",
    "7\t1,2,3,4,5,6\t6\t1.1666...  \n",
    "8\t1,3,5,7\t4\t2  \n",
    "9\t1,2,4,5,7,8\t6\t1.5  \n",
    "10\t1,3,7,9\t4\t2.5  \n",
    "It can be seen that n=6 produces a maximum n/φ(n) for n ≤ 10.\n",
    "\n",
    "Find the value of n ≤ 1,000,000 for which n/φ(n) is a maximum."
   ]
  },
  {
   "cell_type": "code",
   "execution_count": 3,
   "metadata": {},
   "outputs": [],
   "source": [
    "import math\n",
    "\n",
    "n = 1000000\n",
    "totient = [x for x in range(n+1)]\n",
    "max_totient = 3\n",
    "max_x = 6\n",
    "\n",
    "for x in range(2, n+1):\n",
    "    if totient[x] == x:\n",
    "        for y in range(x,n+1,x):\n",
    "            totient[y] *= (1-1/x)\n",
    "    if x/totient[x] > max_totient:\n",
    "        max_totient = x/totient[x]\n",
    "        max_x = x"
   ]
  },
  {
   "cell_type": "code",
   "execution_count": 4,
   "metadata": {},
   "outputs": [
    {
     "data": {
      "text/plain": [
       "510510"
      ]
     },
     "execution_count": 4,
     "metadata": {},
     "output_type": "execute_result"
    }
   ],
   "source": [
    "max_x"
   ]
  },
  {
   "cell_type": "markdown",
   "metadata": {},
   "source": [
    "# Final answer: 510510"
   ]
  },
  {
   "cell_type": "code",
   "execution_count": null,
   "metadata": {},
   "outputs": [],
   "source": []
  }
 ],
 "metadata": {
  "kernelspec": {
   "display_name": "Python 3",
   "language": "python",
   "name": "python3"
  },
  "language_info": {
   "codemirror_mode": {
    "name": "ipython",
    "version": 3
   },
   "file_extension": ".py",
   "mimetype": "text/x-python",
   "name": "python",
   "nbconvert_exporter": "python",
   "pygments_lexer": "ipython3",
   "version": "3.7.5"
  }
 },
 "nbformat": 4,
 "nbformat_minor": 2
}
