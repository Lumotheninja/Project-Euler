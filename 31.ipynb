{
 "cells": [
  {
   "cell_type": "markdown",
   "metadata": {},
   "source": [
    "In England the currency is made up of pound, £, and pence, p, and there are eight coins in general circulation: \n",
    "1p, 2p, 5p, 10p, 20p, 50p, £1 (100p) and £2 (200p).  \n",
    "It is possible to make £2 in the following way:  \n",
    "1×£1 + 1×50p + 2×20p + 1×5p + 1×2p + 3×1p  \n",
    "How many different ways can £2 be made using any number of coins?"
   ]
  },
  {
   "cell_type": "code",
   "execution_count": 1,
   "metadata": {},
   "outputs": [],
   "source": [
    "# This is a standard dp question, the trick is to iterate through coin list first\n",
    "def find_num_of_ways(x,coin_list):    \n",
    "    table = [0 for k in range(x+1)]\n",
    "    table[0]=1\n",
    "    for coin in coin_list:\n",
    "        for y in range(coin,x+1):\n",
    "            if y-coin >=0:\n",
    "                table[y]+=table[(y-coin)]\n",
    "    return table[x]"
   ]
  },
  {
   "cell_type": "code",
   "execution_count": 2,
   "metadata": {},
   "outputs": [
    {
     "data": {
      "text/plain": [
       "73682"
      ]
     },
     "execution_count": 2,
     "metadata": {},
     "output_type": "execute_result"
    }
   ],
   "source": [
    "coin_list = [1,2,5,10,20,50,100,200]\n",
    "find_num_of_ways(200,coin_list)"
   ]
  },
  {
   "cell_type": "markdown",
   "metadata": {},
   "source": [
    "# Final answer: 73682"
   ]
  }
 ],
 "metadata": {
  "kernelspec": {
   "display_name": "Python 3",
   "language": "python",
   "name": "python3"
  },
  "language_info": {
   "codemirror_mode": {
    "name": "ipython",
    "version": 3
   },
   "file_extension": ".py",
   "mimetype": "text/x-python",
   "name": "python",
   "nbconvert_exporter": "python",
   "pygments_lexer": "ipython3",
   "version": "3.7.5"
  }
 },
 "nbformat": 4,
 "nbformat_minor": 2
}
