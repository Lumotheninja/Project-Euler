{
 "cells": [
  {
   "cell_type": "markdown",
   "metadata": {},
   "source": [
    "An irrational decimal fraction is created by concatenating the positive integers:\n",
    "\n",
    "0.123456789101112131415161718192021...\n",
    "\n",
    "It can be seen that the 12th digit of the fractional part is 1.\n",
    "\n",
    "If dn represents the nth digit of the fractional part, find the value of the following expression.\n",
    "\n",
    "d1 × d10 × d100 × d1000 × d10000 × d100000 × d1000000"
   ]
  },
  {
   "cell_type": "code",
   "execution_count": 15,
   "metadata": {},
   "outputs": [
    {
     "name": "stdout",
     "output_type": "stream",
     "text": [
      "1 1\n",
      "10 10\n",
      "100 55\n",
      "1000 370\n",
      "10000 2777\n",
      "100000 22222\n",
      "1000000 185185\n"
     ]
    }
   ],
   "source": [
    "digit_idx = 0\n",
    "threshold = 1\n",
    "count = 1\n",
    "\n",
    "for x in range(1,1000000):\n",
    "    x = str(x)\n",
    "    digit_idx += len(x)\n",
    "    if digit_idx >= threshold:\n",
    "        diff = digit_idx - threshold\n",
    "        print (threshold, x)\n",
    "        count *= int(x[len(x)-diff-1])\n",
    "        threshold *= 10"
   ]
  },
  {
   "cell_type": "code",
   "execution_count": 17,
   "metadata": {},
   "outputs": [
    {
     "data": {
      "text/plain": [
       "210"
      ]
     },
     "execution_count": 17,
     "metadata": {},
     "output_type": "execute_result"
    }
   ],
   "source": [
    "count"
   ]
  },
  {
   "cell_type": "markdown",
   "metadata": {},
   "source": [
    "# Final answer: 210"
   ]
  },
  {
   "cell_type": "code",
   "execution_count": null,
   "metadata": {},
   "outputs": [],
   "source": []
  }
 ],
 "metadata": {
  "kernelspec": {
   "display_name": "Python 3",
   "language": "python",
   "name": "python3"
  },
  "language_info": {
   "codemirror_mode": {
    "name": "ipython",
    "version": 3
   },
   "file_extension": ".py",
   "mimetype": "text/x-python",
   "name": "python",
   "nbconvert_exporter": "python",
   "pygments_lexer": "ipython3",
   "version": "3.7.5"
  }
 },
 "nbformat": 4,
 "nbformat_minor": 2
}
