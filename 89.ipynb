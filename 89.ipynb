{
 "cells": [
  {
   "cell_type": "markdown",
   "metadata": {},
   "source": [
    "For a number written in Roman numerals to be considered valid there are basic rules which must be followed. Even though the rules allow some numbers to be expressed in more than one way there is always a \"best\" way of writing a particular number.\n",
    "\n",
    "For example, it would appear that there are at least six ways of writing the number sixteen:\n",
    "\n",
    "IIIIIIIIIIIIIIII  \n",
    "VIIIIIIIIIII  \n",
    "VVIIIIII  \n",
    "XIIIIII  \n",
    "VVVI  \n",
    "XVI  \n",
    "\n",
    "However, according to the rules only XIIIIII and XVI are valid, and the last example is considered to be the most efficient, as it uses the least number of numerals.\n",
    "\n",
    "The 11K text file, roman.txt (right click and 'Save Link/Target As...'), contains one thousand numbers written in valid, but not necessarily minimal, Roman numerals; see About... Roman Numerals for the definitive rules for this problem.\n",
    "\n",
    "Find the number of characters saved by writing each of these in their minimal form.\n",
    "\n",
    "Note: You can assume that all the Roman numerals in the file contain no more than four consecutive identical units."
   ]
  },
  {
   "cell_type": "markdown",
   "metadata": {},
   "source": [
    "Possible optimizations:\n",
    "IIII -> IV  \n",
    "IIIII -> V   \n",
    "IIIIII -> VI  \n",
    "...  \n",
    "IIIIIIIII/VIIII -> IX  \n",
    "  \n",
    "XXXX -> XL  \n",
    "XXXXX -> L  \n",
    "...  \n",
    "XXXXXXXXX/LXXXX -> XC  \n",
    "  \n",
    "CCCC -> CD  \n",
    "CCCCC -> D  \n",
    "...  \n",
    "CCCCCCCCC/DCCCC -> CM  "
   ]
  },
  {
   "cell_type": "code",
   "execution_count": 6,
   "metadata": {},
   "outputs": [],
   "source": [
    "import re\n",
    "\n",
    "patterns = []\n",
    "\n",
    "patterns.append((re.compile(\"IIIII\"), \"V\", 4))\n",
    "patterns.append((re.compile(\"VIIII\"), \"IX\", 3))\n",
    "patterns.append((re.compile(\"IIII\"), \"IV\", 2))\n",
    "patterns.append((re.compile(\"XXXXX\"), \"C\", 4))\n",
    "patterns.append((re.compile(\"LXXXX\"), \"XC\", 3))\n",
    "patterns.append((re.compile(\"XXXX\"), \"XL\", 2))\n",
    "patterns.append((re.compile(\"CCCCC\"), \"L\", 4))\n",
    "patterns.append((re.compile(\"DCCCC\"), \"CD\", 3))\n",
    "patterns.append((re.compile(\"CCCC\"), \"CL\", 2))"
   ]
  },
  {
   "cell_type": "code",
   "execution_count": 8,
   "metadata": {},
   "outputs": [],
   "source": [
    "with open(\"p089_roman.txt\") as file:\n",
    "    string = file.read()\n",
    "    final_count = 0\n",
    "    for (pattern, replacement, word_saved) in patterns:\n",
    "        string, count = re.subn(pattern, replacement, string)\n",
    "        final_count += word_saved*count      "
   ]
  },
  {
   "cell_type": "code",
   "execution_count": 9,
   "metadata": {},
   "outputs": [
    {
     "data": {
      "text/plain": [
       "743"
      ]
     },
     "execution_count": 9,
     "metadata": {},
     "output_type": "execute_result"
    }
   ],
   "source": [
    "final_count"
   ]
  },
  {
   "cell_type": "code",
   "execution_count": null,
   "metadata": {},
   "outputs": [],
   "source": []
  }
 ],
 "metadata": {
  "kernelspec": {
   "display_name": "Python 3",
   "language": "python",
   "name": "python3"
  },
  "language_info": {
   "codemirror_mode": {
    "name": "ipython",
    "version": 3
   },
   "file_extension": ".py",
   "mimetype": "text/x-python",
   "name": "python",
   "nbconvert_exporter": "python",
   "pygments_lexer": "ipython3",
   "version": "3.7.5"
  }
 },
 "nbformat": 4,
 "nbformat_minor": 2
}
