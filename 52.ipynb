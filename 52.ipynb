{
 "cells": [
  {
   "cell_type": "markdown",
   "metadata": {},
   "source": [
    "It can be seen that the number, 125874, and its double, 251748, contain exactly the same digits, but in a different order.\n",
    "\n",
    "Find the smallest positive integer, x, such that 2x, 3x, 4x, 5x, and 6x, contain the same digits."
   ]
  },
  {
   "cell_type": "code",
   "execution_count": 4,
   "metadata": {},
   "outputs": [],
   "source": [
    "def contains_same_digits(x,y):\n",
    "    x = [num for num in str(x)]\n",
    "    y = [num for num in str(y)]\n",
    "    x.sort()\n",
    "    y.sort()\n",
    "    return x == y"
   ]
  },
  {
   "cell_type": "code",
   "execution_count": 10,
   "metadata": {},
   "outputs": [
    {
     "name": "stdout",
     "output_type": "stream",
     "text": [
      "142857\n"
     ]
    }
   ],
   "source": [
    "x = 1\n",
    "\n",
    "while True:\n",
    "    if len(str(x)) == len(str(6*x)):\n",
    "        if contains_same_digits(x, 6*x):\n",
    "            if contains_same_digits(x, 5*x):\n",
    "                if contains_same_digits(x, 4*x):\n",
    "                    if contains_same_digits(x, 3*x):\n",
    "                        if contains_same_digits(x, 2*x):\n",
    "                            print (x)\n",
    "                            break\n",
    "    x += 1"
   ]
  },
  {
   "cell_type": "markdown",
   "metadata": {},
   "source": [
    "# Answer: 142857"
   ]
  }
 ],
 "metadata": {
  "kernelspec": {
   "display_name": "Python 3",
   "language": "python",
   "name": "python3"
  },
  "language_info": {
   "codemirror_mode": {
    "name": "ipython",
    "version": 3
   },
   "file_extension": ".py",
   "mimetype": "text/x-python",
   "name": "python",
   "nbconvert_exporter": "python",
   "pygments_lexer": "ipython3",
   "version": "3.7.5"
  }
 },
 "nbformat": 4,
 "nbformat_minor": 2
}
