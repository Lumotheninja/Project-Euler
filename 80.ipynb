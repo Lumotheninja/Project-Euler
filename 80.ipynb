{
 "cells": [
  {
   "cell_type": "markdown",
   "metadata": {},
   "source": [
    "It is well known that if the square root of a natural number is not an integer, then it is irrational. The decimal expansion of such square roots is infinite without any repeating pattern at all.\n",
    "\n",
    "The square root of two is 1.41421356237309504880..., and the digital sum of the first one hundred decimal digits is 475.\n",
    "\n",
    "For the first one hundred natural numbers, find the total of the digital sums of the first one hundred decimal digits for all the irrational square roots.\n",
    "\n"
   ]
  },
  {
   "cell_type": "code",
   "execution_count": 65,
   "metadata": {},
   "outputs": [
    {
     "name": "stdout",
     "output_type": "stream",
     "text": [
      "2 475\n",
      "3 916\n",
      "5 1389\n",
      "6 1860\n",
      "7 2258\n",
      "8 2723\n",
      "10 3182\n",
      "11 3666\n",
      "12 4072\n",
      "13 4490\n",
      "14 4975\n",
      "15 5475\n",
      "17 5925\n",
      "18 6326\n",
      "19 6798\n",
      "20 7286\n",
      "21 7770\n",
      "22 8177\n",
      "23 8630\n",
      "24 9114\n",
      "26 9569\n",
      "27 9967\n",
      "28 10368\n",
      "29 10827\n",
      "30 11294\n",
      "31 11767\n",
      "32 12238\n",
      "33 12710\n",
      "34 13169\n",
      "35 13609\n",
      "37 14066\n",
      "38 14528\n",
      "39 14993\n",
      "40 15479\n",
      "41 15930\n",
      "42 16375\n",
      "43 16878\n",
      "44 17361\n",
      "45 17801\n",
      "46 18252\n",
      "47 18675\n",
      "48 19073\n",
      "50 19543\n",
      "51 20011\n",
      "52 20443\n",
      "53 20920\n",
      "54 21381\n",
      "55 21813\n",
      "56 22280\n",
      "57 22733\n",
      "58 23142\n",
      "59 23641\n",
      "60 24120\n",
      "61 24556\n",
      "62 25006\n",
      "63 25445\n",
      "65 25885\n",
      "66 26349\n",
      "67 26847\n",
      "68 27298\n",
      "69 27736\n",
      "70 28200\n",
      "71 28617\n",
      "72 29041\n",
      "73 29468\n",
      "74 29895\n",
      "75 30330\n",
      "76 30789\n",
      "77 31273\n",
      "78 31729\n",
      "79 32190\n",
      "80 32690\n",
      "82 33145\n",
      "83 33619\n",
      "84 34075\n",
      "85 34501\n",
      "86 34960\n",
      "87 35419\n",
      "88 35828\n",
      "89 36236\n",
      "90 36713\n",
      "91 37125\n",
      "92 37627\n",
      "93 38079\n",
      "94 38581\n",
      "95 39040\n",
      "96 39523\n",
      "97 39963\n",
      "98 40440\n",
      "99 40886\n"
     ]
    }
   ],
   "source": [
    "from decimal import *\n",
    "getcontext().prec = 105\n",
    "count = 0\n",
    "square_dict = {}\n",
    "\n",
    "for x in range(2,101):\n",
    "    \n",
    "    square_dict[x**2]= True\n",
    "    if x not in square_dict:\n",
    "        for num in str(int(Decimal(x).sqrt()*10**99)):\n",
    "            count += int(num)\n",
    "        print (x, count)"
   ]
  },
  {
   "cell_type": "code",
   "execution_count": 26,
   "metadata": {},
   "outputs": [
    {
     "data": {
      "text/plain": [
       "40727"
      ]
     },
     "execution_count": 26,
     "metadata": {},
     "output_type": "execute_result"
    }
   ],
   "source": [
    "count"
   ]
  },
  {
   "cell_type": "code",
   "execution_count": 60,
   "metadata": {},
   "outputs": [
    {
     "data": {
      "text/plain": [
       "475"
      ]
     },
     "execution_count": 60,
     "metadata": {},
     "output_type": "execute_result"
    }
   ],
   "source": [
    "count = 0\n",
    "getcontext().prec = 100\n",
    "for num in str(Decimal(2).sqrt()).split(\".\")[1]:\n",
    "    count += int(num)\n",
    "count"
   ]
  },
  {
   "cell_type": "code",
   "execution_count": 62,
   "metadata": {},
   "outputs": [
    {
     "data": {
      "text/plain": [
       "'414213562373095048801688724209698078569671875376948073176679737990732478462107038850387534327641573'"
      ]
     },
     "execution_count": 62,
     "metadata": {},
     "output_type": "execute_result"
    }
   ],
   "source": [
    "getcontext().prec = 100\n",
    "str(Decimal(2).sqrt()).split(\".\")[1]"
   ]
  },
  {
   "cell_type": "code",
   "execution_count": 64,
   "metadata": {},
   "outputs": [
    {
     "data": {
      "text/plain": [
       "'41421356237309504880168872420969807856967187537694807317667973799073247846210703885038753432764157273501'"
      ]
     },
     "execution_count": 64,
     "metadata": {},
     "output_type": "execute_result"
    }
   ],
   "source": [
    "getcontext().prec = 105\n",
    "str(Decimal(2).sqrt()).split(\".\")[1]"
   ]
  },
  {
   "cell_type": "code",
   "execution_count": 68,
   "metadata": {},
   "outputs": [
    {
     "data": {
      "text/plain": [
       "476"
      ]
     },
     "execution_count": 68,
     "metadata": {},
     "output_type": "execute_result"
    }
   ],
   "source": [
    "count = 0\n",
    "getcontext().prec = 100\n",
    "for num in  str(int(Decimal(2).sqrt()*10**99)):\n",
    "    count += int(num)\n",
    "count"
   ]
  },
  {
   "cell_type": "code",
   "execution_count": 72,
   "metadata": {},
   "outputs": [
    {
     "data": {
      "text/plain": [
       "'1414213562373095048801688724209698078569671875376948073176679737990732478462107038850387534327641572'"
      ]
     },
     "execution_count": 72,
     "metadata": {},
     "output_type": "execute_result"
    }
   ],
   "source": [
    "getcontext().prec = 105\n",
    "str(int(Decimal(2).sqrt()*10**99))"
   ]
  },
  {
   "cell_type": "code",
   "execution_count": 54,
   "metadata": {},
   "outputs": [
    {
     "data": {
      "text/plain": [
       "True"
      ]
     },
     "execution_count": 54,
     "metadata": {},
     "output_type": "execute_result"
    }
   ],
   "source": [
    "'414213562373095048801688724209698078569671875376948073176679737990732478462107038850387534327641573' == '414213562373095048801688724209698078569671875376948073176679737990732478462107038850387534327641573'"
   ]
  },
  {
   "cell_type": "code",
   "execution_count": null,
   "metadata": {},
   "outputs": [],
   "source": []
  }
 ],
 "metadata": {
  "kernelspec": {
   "display_name": "Python 3",
   "language": "python",
   "name": "python3"
  },
  "language_info": {
   "codemirror_mode": {
    "name": "ipython",
    "version": 3
   },
   "file_extension": ".py",
   "mimetype": "text/x-python",
   "name": "python",
   "nbconvert_exporter": "python",
   "pygments_lexer": "ipython3",
   "version": "3.7.5"
  }
 },
 "nbformat": 4,
 "nbformat_minor": 2
}
