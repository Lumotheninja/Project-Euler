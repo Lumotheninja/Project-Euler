{
 "cells": [
  {
   "cell_type": "markdown",
   "metadata": {},
   "source": [
    "Consider quadratic Diophantine equations of the form:\n",
    "\n",
    "x<sup>2</sup> – Dy<sup>2</sup> = 1\n",
    "\n",
    "For example, when D=13, the minimal solution in x is 6492 – 13×1802 = 1.\n",
    "\n",
    "It can be assumed that there are no solutions in positive integers when D is square.\n",
    "\n",
    "By finding minimal solutions in x for D = {2, 3, 5, 6, 7}, we obtain the following:\n",
    "\n",
    "32 – 2×22 = 1\n",
    "22 – 3×12 = 1\n",
    "92 – 5×42 = 1\n",
    "52 – 6×22 = 1\n",
    "82 – 7×32 = 1\n",
    "\n",
    "Hence, by considering minimal solutions in x for D ≤ 7, the largest x is obtained when D=5.\n",
    "\n",
    "Find the value of D ≤ 1000 in minimal solutions of x for which the largest value of x is obtained."
   ]
  },
  {
   "cell_type": "code",
   "execution_count": 5,
   "metadata": {},
   "outputs": [
    {
     "data": {
      "text/plain": [
       "29"
      ]
     },
     "execution_count": 5,
     "metadata": {},
     "output_type": "execute_result"
    }
   ],
   "source": [
    "square_dict = {}\n",
    "max_x = 0\n",
    "max_D = 0\n",
    "\n",
    "for D in range(2, 1000):\n",
    "    if D in square_dict:\n",
    "        continue\n",
    "    square_dict[D**2] = True\n",
    "    for x in range(1,10000):\n",
    "        for y in range(x):\n",
    "            formula = int(x**2 - D*(y**2))\n",
    "            if formula == 1:\n",
    "                if x > max_x:\n",
    "                    max_D = D\n",
    "                    max_x = x\n",
    "            elif formula <= 0:\n",
    "                break\n",
    "        \n",
    "max_D"
   ]
  },
  {
   "cell_type": "code",
   "execution_count": 3,
   "metadata": {},
   "outputs": [
    {
     "data": {
      "text/plain": [
       "969"
      ]
     },
     "execution_count": 3,
     "metadata": {},
     "output_type": "execute_result"
    }
   ],
   "source": [
    "max_x"
   ]
  },
  {
   "cell_type": "code",
   "execution_count": null,
   "metadata": {},
   "outputs": [],
   "source": []
  }
 ],
 "metadata": {
  "kernelspec": {
   "display_name": "Python 3",
   "language": "python",
   "name": "python3"
  },
  "language_info": {
   "codemirror_mode": {
    "name": "ipython",
    "version": 3
   },
   "file_extension": ".py",
   "mimetype": "text/x-python",
   "name": "python",
   "nbconvert_exporter": "python",
   "pygments_lexer": "ipython3",
   "version": "3.7.5"
  }
 },
 "nbformat": 4,
 "nbformat_minor": 2
}
