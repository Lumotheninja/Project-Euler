{
 "cells": [
  {
   "cell_type": "markdown",
   "metadata": {},
   "source": [
    "What is the greatest product of four adjacent numbers in the same direction (up, down, left, right, or diagonally) in the 20×20 grid?"
   ]
  },
  {
   "cell_type": "code",
   "execution_count": 2,
   "metadata": {},
   "outputs": [],
   "source": [
    "def find_max(numlist):\n",
    "    max = 0\n",
    "    for num_row in range(len(numlist)-3):\n",
    "        for num_col in range(len(numlist[num_row])-3):\n",
    "            h = int(numlist[num_row][num_col])*int(numlist[num_row][num_col+1])*int(numlist[num_row][num_col+2])*int(numlist[num_row][num_col+3])\n",
    "            if h>max: \n",
    "                max =h\n",
    "            v = int(numlist[num_row][num_col])*int(numlist[num_row+1][num_col])*int(numlist[num_row+2][num_col])*int(numlist[num_row+3][num_col])\n",
    "            if v>max:\n",
    "                max=v\n",
    "            d = int(numlist[num_row][num_col])*int(numlist[num_row+1][num_col+1])*int(numlist[num_row+2][num_col+2])*int(numlist[num_row+3][num_col+3])\n",
    "            if d>max: \n",
    "                max=d\n",
    "    for num_row2 in range(3,len(numlist)):\n",
    "        for num_col2 in range(len(numlist[num_row2])-3):\n",
    "            d2 = int(numlist[num_row2][num_col2])*int(numlist[num_row2-1][num_col2+1])*int(numlist[num_row2-2][num_col2+2])*int(numlist[num_row2-3][num_col2+3])\n",
    "            if d2>max: \n",
    "                max=d2\n",
    "    return max"
   ]
  },
  {
   "cell_type": "code",
   "execution_count": 4,
   "metadata": {},
   "outputs": [
    {
     "data": {
      "text/plain": [
       "70600674"
      ]
     },
     "execution_count": 4,
     "metadata": {},
     "output_type": "execute_result"
    }
   ],
   "source": [
    "file1 = open(\"11.txt\",\"r\")\n",
    "# and for reading use\n",
    "lines = file1.readlines()\n",
    "file1.close()\n",
    "numlist =[]\n",
    "for line in lines:\n",
    "    list = line.strip().split(\" \")\n",
    "    numlist.append(list)\n",
    "find_max(numlist)"
   ]
  },
  {
   "cell_type": "markdown",
   "metadata": {},
   "source": [
    "# Final answer: 70600674"
   ]
  },
  {
   "cell_type": "code",
   "execution_count": null,
   "metadata": {},
   "outputs": [],
   "source": []
  }
 ],
 "metadata": {
  "kernelspec": {
   "display_name": "Python 3",
   "language": "python",
   "name": "python3"
  },
  "language_info": {
   "codemirror_mode": {
    "name": "ipython",
    "version": 3
   },
   "file_extension": ".py",
   "mimetype": "text/x-python",
   "name": "python",
   "nbconvert_exporter": "python",
   "pygments_lexer": "ipython3",
   "version": "3.5.0"
  }
 },
 "nbformat": 4,
 "nbformat_minor": 2
}
