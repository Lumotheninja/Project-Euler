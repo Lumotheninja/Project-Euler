{
 "cells": [
  {
   "cell_type": "markdown",
   "metadata": {},
   "source": [
    "Starting with the number 1 and moving to the right in a clockwise direction a 5 by 5 spiral is formed as follows:  \n",
    "21 22 23 24 25  \n",
    "20 &nbsp; 7 &nbsp; 8 &nbsp; 9 10  \n",
    "19 &nbsp; 6 &nbsp; 1 &nbsp; 2 11  \n",
    "18 &nbsp; 5 &nbsp; 4 &nbsp; 3 12  \n",
    "17 16 15 14 13  \n",
    "It can be verified that the sum of the numbers on the diagonals is 101.  \n",
    "What is the sum of the numbers on the diagonals in a 1001 by 1001 spiral formed in the same way?"
   ]
  },
  {
   "cell_type": "code",
   "execution_count": 1,
   "metadata": {},
   "outputs": [
    {
     "data": {
      "text/plain": [
       "669171001"
      ]
     },
     "execution_count": 1,
     "metadata": {},
     "output_type": "execute_result"
    }
   ],
   "source": [
    "sum=0\n",
    "for i in range(1001,0,-2):\n",
    "    sum += 4*(i**2)-6*(i-1)\n",
    "sum - 3"
   ]
  },
  {
   "cell_type": "markdown",
   "metadata": {},
   "source": [
    "# Final answer: 669171001"
   ]
  }
 ],
 "metadata": {
  "kernelspec": {
   "display_name": "Python 3",
   "language": "python",
   "name": "python3"
  },
  "language_info": {
   "codemirror_mode": {
    "name": "ipython",
    "version": 3
   },
   "file_extension": ".py",
   "mimetype": "text/x-python",
   "name": "python",
   "nbconvert_exporter": "python",
   "pygments_lexer": "ipython3",
   "version": "3.5.0"
  }
 },
 "nbformat": 4,
 "nbformat_minor": 2
}
