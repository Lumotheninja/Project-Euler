{
 "cells": [
  {
   "cell_type": "markdown",
   "metadata": {},
   "source": [
    "The 5-digit number, 16807=7<sup>5</sup>, is also a fifth power. Similarly, the 9-digit number, 134217728=8<sup>9</sup>, is a ninth power.\n",
    "\n",
    "How many n-digit positive integers exist which are also an nth power?"
   ]
  },
  {
   "cell_type": "code",
   "execution_count": 33,
   "metadata": {},
   "outputs": [
    {
     "data": {
      "text/plain": [
       "49"
      ]
     },
     "execution_count": 33,
     "metadata": {},
     "output_type": "execute_result"
    }
   ],
   "source": [
    "count = 0\n",
    "power = 1\n",
    "\n",
    "# 0-9, note that len(str(10**2)) > 2, so we only consider 1 to 9 \n",
    "# 0 is not considered\n",
    "digit_list = [1 for x in range(10)]\n",
    "bool_list = [True for x in range(10)]\n",
    "bool_list[0] = False\n",
    "\n",
    "iterable = True\n",
    "\n",
    "while iterable:\n",
    "    iterable = False\n",
    "    for x in range(len(digit_list)):\n",
    "        if bool_list[x]:\n",
    "            digit_list[x] *= x\n",
    "            if len(str(digit_list[x])) == power:\n",
    "                count += 1\n",
    "                iterable = True\n",
    "            else:\n",
    "                bool_list[x] = False\n",
    "    power += 1\n",
    "\n",
    "count"
   ]
  },
  {
   "cell_type": "markdown",
   "metadata": {},
   "source": [
    "# Final answer: 49"
   ]
  },
  {
   "cell_type": "code",
   "execution_count": null,
   "metadata": {},
   "outputs": [],
   "source": []
  }
 ],
 "metadata": {
  "kernelspec": {
   "display_name": "Python 3",
   "language": "python",
   "name": "python3"
  },
  "language_info": {
   "codemirror_mode": {
    "name": "ipython",
    "version": 3
   },
   "file_extension": ".py",
   "mimetype": "text/x-python",
   "name": "python",
   "nbconvert_exporter": "python",
   "pygments_lexer": "ipython3",
   "version": "3.7.5"
  }
 },
 "nbformat": 4,
 "nbformat_minor": 2
}
