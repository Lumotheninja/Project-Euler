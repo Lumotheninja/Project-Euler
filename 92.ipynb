{
 "cells": [
  {
   "cell_type": "markdown",
   "metadata": {},
   "source": [
    "A number chain is created by continuously adding the square of the digits in a number to form a new number until it has been seen before.\n",
    "\n",
    "For example,\n",
    "\n",
    "44 → 32 → 13 → 10 → 1 → 1  \n",
    "85 → 89 → 145 → 42 → 20 → 4 → 16 → 37 → 58 → 89\n",
    "\n",
    "Therefore any chain that arrives at 1 or 89 will become stuck in an endless loop. What is most amazing is that EVERY starting number will eventually arrive at 1 or 89.\n",
    "\n",
    "How many starting numbers below ten million will arrive at 89?"
   ]
  },
  {
   "cell_type": "code",
   "execution_count": 11,
   "metadata": {},
   "outputs": [],
   "source": [
    "def check89(num, seq_list):\n",
    "    if num == 89 or num in dict89:\n",
    "        return True, seq_list\n",
    "    elif num == 1 or num in dict1:\n",
    "        return False, seq_list\n",
    "    else:\n",
    "        new_num = 0\n",
    "        for digit in str(num):\n",
    "            new_num += int(digit)**2\n",
    "        seq_list.append(new_num)\n",
    "        return check89(new_num, seq_list)"
   ]
  },
  {
   "cell_type": "code",
   "execution_count": 19,
   "metadata": {},
   "outputs": [
    {
     "name": "stdout",
     "output_type": "stream",
     "text": [
      "10000000\r"
     ]
    }
   ],
   "source": [
    "dict89 = {89: True}\n",
    "dict1 ={1: True}\n",
    "\n",
    "for x in range(1,10000001):\n",
    "    is89, seq_list = check89(x, [x])\n",
    "    print(x, end='\\r')\n",
    "    if is89:\n",
    "        for num in seq_list:\n",
    "            \n",
    "            dict89[num] = True\n",
    "    else:\n",
    "        for num in seq_list:\n",
    "            dict1[num] = True"
   ]
  },
  {
   "cell_type": "code",
   "execution_count": 21,
   "metadata": {
    "scrolled": true
   },
   "outputs": [
    {
     "data": {
      "text/plain": [
       "8581146"
      ]
     },
     "execution_count": 21,
     "metadata": {},
     "output_type": "execute_result"
    }
   ],
   "source": [
    "len(dict89.keys())"
   ]
  },
  {
   "cell_type": "markdown",
   "metadata": {},
   "source": [
    "# Final answer: 8581146"
   ]
  },
  {
   "cell_type": "code",
   "execution_count": null,
   "metadata": {},
   "outputs": [],
   "source": []
  }
 ],
 "metadata": {
  "kernelspec": {
   "display_name": "Python 3",
   "language": "python",
   "name": "python3"
  },
  "language_info": {
   "codemirror_mode": {
    "name": "ipython",
    "version": 3
   },
   "file_extension": ".py",
   "mimetype": "text/x-python",
   "name": "python",
   "nbconvert_exporter": "python",
   "pygments_lexer": "ipython3",
   "version": "3.7.5"
  }
 },
 "nbformat": 4,
 "nbformat_minor": 2
}
