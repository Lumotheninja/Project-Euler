{
 "cells": [
  {
   "cell_type": "markdown",
   "metadata": {},
   "source": [
    "Consider the following \"magic\" 3-gon ring, filled with the numbers 1 to 6, and each line adding to nine.\n",
    "\n",
    "\n",
    "Working clockwise, and starting from the group of three with the numerically lowest external node (4,3,2 in this example), each solution can be described uniquely. For example, the above solution can be described by the set: 4,3,2; 6,2,1; 5,1,3.\n",
    "\n",
    "It is possible to complete the ring with four different totals: 9, 10, 11, and 12. There are eight solutions in total.\n",
    "\n",
    "Total\tSolution Set  \n",
    "9\t4,2,3; 5,3,1; 6,1,2  \n",
    "9\t4,3,2; 6,2,1; 5,1,3  \n",
    "10\t2,3,5; 4,5,1; 6,1,3  \n",
    "10\t2,5,3; 6,3,1; 4,1,5  \n",
    "11\t1,4,6; 3,6,2; 5,2,4  \n",
    "11\t1,6,4; 5,4,2; 3,2,6  \n",
    "12\t1,5,6; 2,6,4; 3,4,5  \n",
    "12\t1,6,5; 3,5,4; 2,4,6  \n",
    "By concatenating each group it is possible to form 9-digit strings; the maximum string for a 3-gon ring is 432621513.\n",
    "\n",
    "Using the numbers 1 to 10, and depending on arrangements, it is possible to form 16- and 17-digit strings. What is the maximum 16-digit string for a \"magic\" 5-gon ring?"
   ]
  },
  {
   "cell_type": "code",
   "execution_count": null,
   "metadata": {},
   "outputs": [],
   "source": [
    "inner = [10,0,0,0,0]\n",
    "outer = [0,0,0,0,0]\n"
   ]
  }
 ],
 "metadata": {
  "kernelspec": {
   "display_name": "Python 3",
   "language": "python",
   "name": "python3"
  },
  "language_info": {
   "codemirror_mode": {
    "name": "ipython",
    "version": 3
   },
   "file_extension": ".py",
   "mimetype": "text/x-python",
   "name": "python",
   "nbconvert_exporter": "python",
   "pygments_lexer": "ipython3",
   "version": "3.7.5"
  }
 },
 "nbformat": 4,
 "nbformat_minor": 2
}
