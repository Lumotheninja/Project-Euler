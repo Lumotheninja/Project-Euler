{
 "cells": [
  {
   "cell_type": "code",
   "execution_count": 34,
   "metadata": {},
   "outputs": [],
   "source": [
    "def do_ops(stack, fn):\n",
    "    result = fn(stack.pop(), stack.pop())\n",
    "    stack.append(result)\n",
    "    return stack\n",
    "    \n",
    "def gen_sol(stack, remainder, sol):\n",
    "    \n",
    "    # return\n",
    "    if len(stack) == 1 and len(remainder) == 0:\n",
    "        if stack[-1] > 0 and float(stack[-1]).is_integer():\n",
    "            sol.append(int(stack[-1]))\n",
    "        return\n",
    "    \n",
    "    # empty or 1 number in stack, push\n",
    "    if len(stack) < 2:\n",
    "        stack.append(remainder.pop())\n",
    "        gen_sol(stack, remainder, sol)\n",
    "        \n",
    "    else:\n",
    "        #push more stuff into stack\n",
    "        if len(remainder) > 0:\n",
    "            newremainder = remainder[:]\n",
    "            newstack = stack[:]\n",
    "            newstack.append(newremainder.pop())\n",
    "            gen_sol(newstack, newremainder, sol)\n",
    "            \n",
    "        # plus\n",
    "        newremainder = remainder[:]\n",
    "        newstack = stack[:]\n",
    "        newstack = do_ops(newstack, lambda x,y: x+y)\n",
    "        gen_sol(newstack, newremainder, sol)\n",
    "        \n",
    "        # minus\n",
    "        newremainder = remainder[:]\n",
    "        newstack = stack[:]\n",
    "        newstack = do_ops(newstack, lambda x,y: x-y)\n",
    "        gen_sol(newstack, newremainder, sol)\n",
    "    \n",
    "        # multiply\n",
    "        newremainder = remainder[:]\n",
    "        newstack = stack[:]\n",
    "        newstack = do_ops(newstack, lambda x,y: x*y)\n",
    "        gen_sol(newstack, newremainder, sol)\n",
    "    \n",
    "        # divide\n",
    "        newremainder = remainder[:]\n",
    "        newstack = stack[:]\n",
    "        # catch divide by zero\n",
    "        try:\n",
    "            newstack = do_ops(newstack, lambda x,y: x/y)\n",
    "            gen_sol(newstack, newremainder, sol)\n",
    "        except: \n",
    "            pass"
   ]
  },
  {
   "cell_type": "code",
   "execution_count": 36,
   "metadata": {},
   "outputs": [
    {
     "name": "stdout",
     "output_type": "stream",
     "text": [
      "1258\n"
     ]
    }
   ],
   "source": [
    "from itertools import combinations, permutations\n",
    "\n",
    "\n",
    "highest = 0\n",
    "highest_abcd = \"\"\n",
    "\n",
    "for d in range(4,10):\n",
    "    for c in range(3,d):\n",
    "        for b in range(2,c):\n",
    "            for a in range(1,b):\n",
    "                sol = []\n",
    "                for combo in permutations((a,b,c,d),4):\n",
    "                    stack = []\n",
    "                    remainder = list(combo)\n",
    "                    gen_sol(stack, remainder, sol)\n",
    "                sol_set = set(sol)\n",
    "                \n",
    "                # test longest integer range\n",
    "                test = 1\n",
    "                while test in sol_set:\n",
    "                    test += 1\n",
    "                    \n",
    "                if test - 1> highest:\n",
    "                    highest = test - 1\n",
    "                    highest_abcd = str(a) + str(b) + str(c) + str(d)\n",
    "                    \n",
    "print (highest_abcd)"
   ]
  },
  {
   "cell_type": "code",
   "execution_count": null,
   "metadata": {},
   "outputs": [],
   "source": []
  }
 ],
 "metadata": {
  "kernelspec": {
   "display_name": "Python 3",
   "language": "python",
   "name": "python3"
  },
  "language_info": {
   "codemirror_mode": {
    "name": "ipython",
    "version": 3
   },
   "file_extension": ".py",
   "mimetype": "text/x-python",
   "name": "python",
   "nbconvert_exporter": "python",
   "pygments_lexer": "ipython3",
   "version": "3.7.5"
  }
 },
 "nbformat": 4,
 "nbformat_minor": 2
}
