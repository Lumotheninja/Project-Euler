{
 "cells": [
  {
   "cell_type": "code",
   "execution_count": 31,
   "metadata": {},
   "outputs": [],
   "source": [
    "def check(combo1, combo2):\n",
    "    conditions = [(0,1), (0,4), (0,9), (0,6), (1,6), (1,9), (2,5), (3,6), (3,9), (4,9), (6,4), (9,4), (8,1)]\n",
    "    for cond in conditions:\n",
    "        if not((cond[0] in combo1 and cond[1] in combo2) or (cond[0] in combo2 and cond[1] in combo1)):\n",
    "            return False\n",
    "    return True"
   ]
  },
  {
   "cell_type": "code",
   "execution_count": 34,
   "metadata": {},
   "outputs": [],
   "source": [
    "from itertools import combinations\n",
    "\n",
    "num_list = [0,1,2,3,4,5,6,7,8,9]\n",
    "\n",
    "combos = [x for x in combinations(num_list, 6)]\n",
    "count = 0\n",
    "\n",
    "for i in range(len(combos)):\n",
    "    for j in range(i):\n",
    "        if 9 in combos[i]:\n",
    "            combos[i] = combos[i] + (6,)\n",
    "        if 6 in combos[i]:\n",
    "            combos[i] = combos[i] + (9,)\n",
    "        \n",
    "        if check(combos[i], combos[j]):\n",
    "            count += 1"
   ]
  },
  {
   "cell_type": "code",
   "execution_count": 35,
   "metadata": {},
   "outputs": [
    {
     "data": {
      "text/plain": [
       "1217"
      ]
     },
     "execution_count": 35,
     "metadata": {},
     "output_type": "execute_result"
    }
   ],
   "source": [
    "count"
   ]
  },
  {
   "cell_type": "code",
   "execution_count": null,
   "metadata": {},
   "outputs": [],
   "source": []
  }
 ],
 "metadata": {
  "kernelspec": {
   "display_name": "Python 3",
   "language": "python",
   "name": "python3"
  },
  "language_info": {
   "codemirror_mode": {
    "name": "ipython",
    "version": 3
   },
   "file_extension": ".py",
   "mimetype": "text/x-python",
   "name": "python",
   "nbconvert_exporter": "python",
   "pygments_lexer": "ipython3",
   "version": "3.7.5"
  }
 },
 "nbformat": 4,
 "nbformat_minor": 2
}
