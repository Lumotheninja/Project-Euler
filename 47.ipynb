{
 "cells": [
  {
   "cell_type": "markdown",
   "metadata": {},
   "source": [
    "The first two consecutive numbers to have two distinct prime factors are:\n",
    "\n",
    "14 = 2 × 7\n",
    "15 = 3 × 5\n",
    "\n",
    "The first three consecutive numbers to have three distinct prime factors are:\n",
    "\n",
    "644 = 2² × 7 × 23\n",
    "645 = 3 × 5 × 43\n",
    "646 = 2 × 17 × 19.\n",
    "\n",
    "Find the first four consecutive integers to have four distinct prime factors each. What is the first of these numbers?"
   ]
  },
  {
   "cell_type": "markdown",
   "metadata": {},
   "source": [
    "Sieve of erosthenes method for striking out the numbers, then find the number which has been striked out 4 times"
   ]
  },
  {
   "cell_type": "code",
   "execution_count": 1,
   "metadata": {},
   "outputs": [],
   "source": [
    "n = 1000000\n",
    "\n",
    "prime = [0 for i in range(n + 1)] \n",
    "\n",
    "p = 2\n",
    "while (p * p <= n): \n",
    "\n",
    "    if (prime[p] == 0): \n",
    "        \n",
    "        for i in range(p * 2, n + 1, p): \n",
    "            prime[i] += 1\n",
    "    p += 1"
   ]
  },
  {
   "cell_type": "code",
   "execution_count": 2,
   "metadata": {},
   "outputs": [
    {
     "name": "stdout",
     "output_type": "stream",
     "text": [
      "134043\n",
      "238203\n",
      "253894\n",
      "259368\n",
      "315720\n",
      "332994\n",
      "342054\n",
      "355508\n",
      "357642\n",
      "357643\n",
      "385032\n",
      "401554\n",
      "409353\n",
      "422094\n",
      "438954\n",
      "452352\n",
      "468753\n",
      "478854\n",
      "495649\n",
      "507792\n",
      "525159\n",
      "526812\n",
      "528408\n",
      "557842\n",
      "569064\n",
      "571233\n",
      "585597\n",
      "588729\n",
      "589743\n",
      "593184\n",
      "594033\n",
      "595440\n",
      "607802\n",
      "609634\n",
      "609635\n",
      "619758\n",
      "619759\n",
      "625735\n",
      "637272\n",
      "641172\n",
      "642549\n",
      "675960\n",
      "685165\n",
      "714492\n",
      "715292\n",
      "732248\n",
      "732249\n",
      "739563\n",
      "753948\n",
      "755013\n",
      "766380\n",
      "772562\n",
      "779492\n",
      "800604\n",
      "802008\n",
      "813903\n",
      "816144\n",
      "822645\n",
      "826845\n",
      "829124\n",
      "829125\n",
      "837680\n",
      "845403\n",
      "873543\n",
      "891777\n",
      "896334\n",
      "901262\n",
      "905463\n",
      "907533\n",
      "917784\n",
      "921402\n",
      "929100\n",
      "932139\n",
      "939144\n",
      "952833\n",
      "953154\n",
      "959802\n",
      "960752\n",
      "960753\n",
      "973554\n",
      "984345\n",
      "984696\n",
      "984697\n"
     ]
    }
   ],
   "source": [
    "for x in range(len(prime)-4):\n",
    "    if prime[x] >= 4 and prime[x+1] >= 4 and prime[x+2] >= 4 and prime[x+3] >= 4:\n",
    "        print(x)"
   ]
  },
  {
   "cell_type": "markdown",
   "metadata": {},
   "source": [
    "# Final answer: 984697"
   ]
  },
  {
   "cell_type": "code",
   "execution_count": null,
   "metadata": {},
   "outputs": [],
   "source": []
  }
 ],
 "metadata": {
  "kernelspec": {
   "display_name": "Python 3",
   "language": "python",
   "name": "python3"
  },
  "language_info": {
   "codemirror_mode": {
    "name": "ipython",
    "version": 3
   },
   "file_extension": ".py",
   "mimetype": "text/x-python",
   "name": "python",
   "nbconvert_exporter": "python",
   "pygments_lexer": "ipython3",
   "version": "3.7.5"
  }
 },
 "nbformat": 4,
 "nbformat_minor": 2
}
