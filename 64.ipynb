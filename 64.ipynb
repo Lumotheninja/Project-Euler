{
 "cells": [
  {
   "cell_type": "markdown",
   "metadata": {},
   "source": [
    "All square roots are periodic when written as continued fractions and can be written in the form:\n",
    "\n",
    "N−−√=a0+1a1+1a2+1a3+…\n",
    "For example, let us consider 23−−√:23−−√=4+23−−√−4=4+1123√−4=4+11+23√−37\n",
    "If we continue we would get the following expansion:\n",
    "\n",
    "23−−√=4+11+13+11+18+…\n",
    "The process can be summarised as follows:\n",
    "\n",
    "a0=4,123√−4=23√+47=1+23√−37\n",
    "a1=1,723√−3=7(23√+3)14=3+23√−32\n",
    "a2=3,223√−3=2(23√+3)14=1+23√−47\n",
    "a3=1,723√−4=7(23√+4)7=8+23−−√−4\n",
    "a4=8,123√−4=23√+47=1+23√−37\n",
    "a5=1,723√−3=7(23√+3)14=3+23√−32\n",
    "a6=3,223√−3=2(23√+3)14=1+23√−47\n",
    "a7=1,723√−4=7(23√+4)7=8+23−−√−4\n",
    "It can be seen that the sequence is repeating. For conciseness, we use the notation 23−−√=[4;(1,3,1,8)], to indicate that the block (1,3,1,8) repeats indefinitely.\n",
    "\n",
    "The first ten continued fraction representations of (irrational) square roots are:\n",
    "\n",
    "2–√=[1;(2)], period=1\n",
    "3–√=[1;(1,2)], period=2\n",
    "5–√=[2;(4)], period=1\n",
    "6–√=[2;(2,4)], period=2\n",
    "7–√=[2;(1,1,1,4)], period=4\n",
    "8–√=[2;(1,4)], period=2\n",
    "10−−√=[3;(6)], period=1\n",
    "11−−√=[3;(3,6)], period=2\n",
    "12−−√=[3;(2,6)], period=2\n",
    "13−−√=[3;(1,1,1,1,6)], period=5\n",
    "\n",
    "Exactly four continued fractions, for N≤13, have an odd period.\n",
    "\n",
    "How many continued fractions for N≤10000 have an odd period?"
   ]
  },
  {
   "cell_type": "code",
   "execution_count": 19,
   "metadata": {},
   "outputs": [],
   "source": [
    "import math\n",
    "\n",
    "squares_list = {}\n",
    "ans = 0\n",
    "\n",
    "for n in range(2,10001):\n",
    "    squares_list[n**2] = True\n",
    "    if n not in squares_list:\n",
    "        triplets_dict = {}\n",
    "        count = 0\n",
    "        m = 0 \n",
    "        d = 1\n",
    "        a = math.floor(math.sqrt(n))\n",
    "        while (m,d,a) not in triplets_dict:\n",
    "            triplets_dict[(m,d,a)] = count\n",
    "            m = d*a-m\n",
    "            d = (n-m**2)/d\n",
    "            a = math.floor((math.sqrt(n) + m)/d)\n",
    "            count += 1\n",
    "        length = count - triplets_dict[(m,d,a)]\n",
    "        if length % 2 == 1:\n",
    "            ans += 1"
   ]
  },
  {
   "cell_type": "code",
   "execution_count": 20,
   "metadata": {},
   "outputs": [
    {
     "data": {
      "text/plain": [
       "1322"
      ]
     },
     "execution_count": 20,
     "metadata": {},
     "output_type": "execute_result"
    }
   ],
   "source": [
    "ans"
   ]
  },
  {
   "cell_type": "markdown",
   "metadata": {},
   "source": [
    "# Final answer: 1322"
   ]
  },
  {
   "cell_type": "code",
   "execution_count": null,
   "metadata": {},
   "outputs": [],
   "source": []
  }
 ],
 "metadata": {
  "kernelspec": {
   "display_name": "Python 3",
   "language": "python",
   "name": "python3"
  },
  "language_info": {
   "codemirror_mode": {
    "name": "ipython",
    "version": 3
   },
   "file_extension": ".py",
   "mimetype": "text/x-python",
   "name": "python",
   "nbconvert_exporter": "python",
   "pygments_lexer": "ipython3",
   "version": "3.7.5"
  }
 },
 "nbformat": 4,
 "nbformat_minor": 2
}
