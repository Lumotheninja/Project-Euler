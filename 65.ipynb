{
 "cells": [
  {
   "cell_type": "markdown",
   "metadata": {},
   "source": [
    "The square root of 2 can be written as an infinite continued fraction.\n",
    "\n",
    "2–√=1+12+12+12+12+...\n",
    "The infinite continued fraction can be written, 2–√=[1;(2)], (2) indicates that 2 repeats ad infinitum. In a similar way, 23−−√=[4;(1,3,1,8)].\n",
    "\n",
    "It turns out that the sequence of partial values of continued fractions for square roots provide the best rational approximations. Let us consider the convergents for 2–√.\n",
    "\n",
    "1+12=321+12+12=751+12+12+12=17121+12+12+12+12=4129\n",
    "Hence the sequence of the first ten convergents for 2–√ are:\n",
    "\n",
    "1,32,75,1712,4129,9970,239169,577408,1393985,33632378,...\n",
    "What is most surprising is that the important mathematical constant,\n",
    "e=[2;1,2,1,1,4,1,1,6,1,...,1,2k,1,...].\n",
    "\n",
    "The first ten terms in the sequence of convergents for e are:\n",
    "\n",
    "2,3,83,114,197,8732,10639,19371,1264465,1457536,...\n",
    "The sum of digits in the numerator of the 10th convergent is 1+4+5+7=17.\n",
    "\n",
    "Find the sum of digits in the numerator of the 100th convergent of the continued fraction for e."
   ]
  },
  {
   "cell_type": "code",
   "execution_count": 58,
   "metadata": {},
   "outputs": [],
   "source": [
    "def sum_digits(n):\n",
    "    s = 0\n",
    "    while n:\n",
    "        s += n % 10\n",
    "        n //= 10\n",
    "    return s"
   ]
  },
  {
   "cell_type": "code",
   "execution_count": 81,
   "metadata": {},
   "outputs": [
    {
     "name": "stdout",
     "output_type": "stream",
     "text": [
      "2.0\n",
      "4.0\n",
      "6.0\n",
      "8.0\n",
      "10.0\n",
      "12.0\n",
      "14.0\n",
      "16.0\n",
      "18.0\n",
      "20.0\n",
      "22.0\n",
      "24.0\n",
      "26.0\n",
      "28.0\n",
      "30.0\n",
      "32.0\n",
      "34.0\n",
      "36.0\n",
      "38.0\n",
      "40.0\n",
      "42.0\n",
      "44.0\n",
      "46.0\n",
      "48.0\n",
      "50.0\n",
      "52.0\n",
      "54.0\n",
      "56.0\n",
      "58.0\n",
      "60.0\n",
      "62.0\n",
      "64.0\n",
      "66.0\n"
     ]
    }
   ],
   "source": [
    "import math\n",
    "\n",
    "count = 1\n",
    "prev_A = 1\n",
    "prev_B = 0\n",
    "A = 2\n",
    "B = 1\n",
    "\n",
    "while count < 100:\n",
    "    count += 1\n",
    "    if count % 3 == 0:\n",
    "        b = count/3*2\n",
    "        print(b)\n",
    "    else:\n",
    "        b = 1\n",
    "    new_A = b*A + prev_A\n",
    "    new_B = b*B + prev_B\n",
    "    prev_A = A\n",
    "    prev_B = B\n",
    "    A = new_A\n",
    "    B = new_B\n",
    "    # print(count, A, B)"
   ]
  },
  {
   "cell_type": "code",
   "execution_count": 80,
   "metadata": {},
   "outputs": [
    {
     "data": {
      "text/plain": [
       "272"
      ]
     },
     "execution_count": 80,
     "metadata": {},
     "output_type": "execute_result"
    }
   ],
   "source": [
    "sum_digits(A)"
   ]
  },
  {
   "cell_type": "markdown",
   "metadata": {},
   "source": [
    "# Final answer: 272"
   ]
  },
  {
   "cell_type": "markdown",
   "metadata": {},
   "source": [
    "https://en.wikipedia.org/wiki/Generalized_continued_fraction#Euler's_continued_fraction_formula"
   ]
  },
  {
   "cell_type": "code",
   "execution_count": null,
   "metadata": {},
   "outputs": [],
   "source": []
  }
 ],
 "metadata": {
  "kernelspec": {
   "display_name": "Python 3",
   "language": "python",
   "name": "python3"
  },
  "language_info": {
   "codemirror_mode": {
    "name": "ipython",
    "version": 3
   },
   "file_extension": ".py",
   "mimetype": "text/x-python",
   "name": "python",
   "nbconvert_exporter": "python",
   "pygments_lexer": "ipython3",
   "version": "3.7.5"
  }
 },
 "nbformat": 4,
 "nbformat_minor": 2
}
