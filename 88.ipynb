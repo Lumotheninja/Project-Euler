{
 "cells": [
  {
   "cell_type": "code",
   "execution_count": 29,
   "metadata": {},
   "outputs": [],
   "source": [
    "n = 12000\n",
    "\n",
    "num_dict = {}\n",
    "for x in range(2,n+1):\n",
    "    num_dict[x] = 2*x\n",
    "memo = {}\n",
    "for x in range(2,n+1):\n",
    "    memo[(x,)] = x\n",
    "frontier =  [(x,) for x in range(2,n+1)]\n",
    "\n",
    "while len(frontier) > 0:\n",
    "    current = frontier.pop(0)\n",
    "    multiplicand = current[-1]\n",
    "    \n",
    "    while True:\n",
    "        multiple = memo[current] * multiplicand\n",
    "        length = len(current) + 1\n",
    "        diff = multiple - sum(current) - multiplicand\n",
    "        if diff + length > n:\n",
    "            break\n",
    "        else:\n",
    "            memo[current + (multiplicand,)] = multiple\n",
    "            if multiple < num_dict[diff+length]:\n",
    "                #print (diff+length, current, multiplicand)\n",
    "                num_dict[diff+length] = multiple\n",
    "            frontier.append(current + (multiplicand,))\n",
    "            multiplicand += 1"
   ]
  },
  {
   "cell_type": "code",
   "execution_count": 31,
   "metadata": {},
   "outputs": [
    {
     "data": {
      "text/plain": [
       "7587457"
      ]
     },
     "execution_count": 31,
     "metadata": {},
     "output_type": "execute_result"
    }
   ],
   "source": [
    "sum(set([x for x in num_dict.values()]))"
   ]
  },
  {
   "cell_type": "code",
   "execution_count": null,
   "metadata": {},
   "outputs": [],
   "source": []
  }
 ],
 "metadata": {
  "kernelspec": {
   "display_name": "Python 3",
   "language": "python",
   "name": "python3"
  },
  "language_info": {
   "codemirror_mode": {
    "name": "ipython",
    "version": 3
   },
   "file_extension": ".py",
   "mimetype": "text/x-python",
   "name": "python",
   "nbconvert_exporter": "python",
   "pygments_lexer": "ipython3",
   "version": "3.7.5"
  }
 },
 "nbformat": 4,
 "nbformat_minor": 2
}
