{
 "cells": [
  {
   "cell_type": "markdown",
   "metadata": {},
   "source": [
    "We shall say that an n-digit number is pandigital if it makes use of all the digits 1 to n exactly once; for example, the 5-digit number, 15234, is 1 through 5 pandigital.\n",
    "\n",
    "The product 7254 is unusual, as the identity, 39 × 186 = 7254, containing multiplicand, multiplier, and product is 1 through 9 pandigital.\n",
    "\n",
    "Find the sum of all products whose multiplicand/multiplier/product identity can be written as a 1 through 9 pandigital.\n",
    "\n",
    "HINT: Some products can be obtained in more than one way so be sure to only include it once in your sum."
   ]
  },
  {
   "cell_type": "code",
   "execution_count": 11,
   "metadata": {},
   "outputs": [
    {
     "name": "stdout",
     "output_type": "stream",
     "text": [
      "4396 157 28\n",
      "5346 198 27\n",
      "5796 138 42\n",
      "7254 186 39\n",
      "7632 159 48\n"
     ]
    }
   ],
   "source": [
    "from itertools import permutations\n",
    "\n",
    "count = 0\n",
    "digits = [1,2,3,4,5,6,7,8,9]\n",
    "\n",
    "for digits4 in permutations(digits, 4):\n",
    "    found = False\n",
    "    digits4str = ''\n",
    "    for x in digits4:\n",
    "        digits4str += str(x) \n",
    "    leftover1 = set(digits) - set(digits4)\n",
    "    for digits3 in permutations(leftover1, 3):\n",
    "        if found:\n",
    "            break\n",
    "        digits3str = ''\n",
    "        for x in digits3:\n",
    "            digits3str += str(x) \n",
    "        leftover2 = set(leftover1) - set(digits3)\n",
    "        for digits2 in permutations(leftover2):\n",
    "            digits2str = ''\n",
    "            for x in digits2:\n",
    "                digits2str += str(x)\n",
    "            if int(digits4str)/int(digits3str) == int(digits2str):\n",
    "                count += int(digits4str)\n",
    "                print (digits4str, digits3str, digits2str)\n",
    "                found = True"
   ]
  },
  {
   "cell_type": "code",
   "execution_count": 12,
   "metadata": {},
   "outputs": [
    {
     "name": "stdout",
     "output_type": "stream",
     "text": [
      "6952 1738 4\n",
      "7852 1963 4\n"
     ]
    }
   ],
   "source": [
    "for digits4 in permutations(digits, 4):\n",
    "    found = False\n",
    "    digits4str = ''\n",
    "    for x in digits4:\n",
    "        digits4str += str(x) \n",
    "    leftover1 = set(digits) - set(digits4)\n",
    "    for digits3 in permutations(leftover1, 4):\n",
    "        if found:\n",
    "            break\n",
    "        digits3str = ''\n",
    "        for x in digits3:\n",
    "            digits3str += str(x) \n",
    "        leftover2 = set(leftover1) - set(digits3)\n",
    "        for digits2 in permutations(leftover2):\n",
    "            digits2str = ''\n",
    "            for x in digits2:\n",
    "                digits2str += str(x)\n",
    "            if int(digits4str)/int(digits3str) == int(digits2str):\n",
    "                count += int(digits4str)\n",
    "                print (digits4str, digits3str, digits2str)\n",
    "                found = True"
   ]
  },
  {
   "cell_type": "code",
   "execution_count": 13,
   "metadata": {},
   "outputs": [
    {
     "data": {
      "text/plain": [
       "45228"
      ]
     },
     "execution_count": 13,
     "metadata": {},
     "output_type": "execute_result"
    }
   ],
   "source": [
    "count"
   ]
  },
  {
   "cell_type": "code",
   "execution_count": null,
   "metadata": {},
   "outputs": [],
   "source": []
  }
 ],
 "metadata": {
  "kernelspec": {
   "display_name": "Python 3",
   "language": "python",
   "name": "python3"
  },
  "language_info": {
   "codemirror_mode": {
    "name": "ipython",
    "version": 3
   },
   "file_extension": ".py",
   "mimetype": "text/x-python",
   "name": "python",
   "nbconvert_exporter": "python",
   "pygments_lexer": "ipython3",
   "version": "3.5.0"
  }
 },
 "nbformat": 4,
 "nbformat_minor": 2
}
