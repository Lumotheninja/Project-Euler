{
 "cells": [
  {
   "cell_type": "markdown",
   "metadata": {},
   "source": [
    "The number, 1406357289, is a 0 to 9 pandigital number because it is made up of each of the digits 0 to 9 in some order, but it also has a rather interesting sub-string divisibility property.\n",
    "\n",
    "Let d1 be the 1st digit, d2 be the 2nd digit, and so on. In this way, we note the following:\n",
    "\n",
    "d2d3d4=406 is divisible by 2\n",
    "d3d4d5=063 is divisible by 3\n",
    "d4d5d6=635 is divisible by 5\n",
    "d5d6d7=357 is divisible by 7\n",
    "d6d7d8=572 is divisible by 11\n",
    "d7d8d9=728 is divisible by 13\n",
    "d8d9d10=289 is divisible by 17\n",
    "\n",
    "Find the sum of all 0 to 9 pandigital numbers with this property."
   ]
  },
  {
   "cell_type": "code",
   "execution_count": 10,
   "metadata": {},
   "outputs": [
    {
     "name": "stdout",
     "output_type": "stream",
     "text": [
      "1430952867\n",
      "1460357289\n",
      "1406357289\n",
      "4130952867\n",
      "4160357289\n",
      "4106357289\n"
     ]
    }
   ],
   "source": [
    "import itertools\n",
    "\n",
    "count = 0\n",
    "for tups in itertools.permutations([1,2,3,4,5,6,7,8,9,0]):\n",
    "    numstr = \"\".join([str(x) for x in tups])\n",
    "    if numstr[0] == \"0\" or int(numstr[3]) %2 != 0 or int(numstr[2:5]) % 3 != 0 or int(numstr[4:6]) % 5 != 0 or int(numstr[4:7]) % 7 != 0 or int(numstr[5:8]) % 11 != 0 or int(numstr[6:9]) % 13 != 0 or int(numstr[7:10]) % 17 != 0:\n",
    "        continue\n",
    "    else:\n",
    "        print (numstr)\n",
    "        count += int(numstr)"
   ]
  },
  {
   "cell_type": "code",
   "execution_count": 11,
   "metadata": {},
   "outputs": [
    {
     "data": {
      "text/plain": [
       "16695334890"
      ]
     },
     "execution_count": 11,
     "metadata": {},
     "output_type": "execute_result"
    }
   ],
   "source": [
    "count"
   ]
  },
  {
   "cell_type": "code",
   "execution_count": null,
   "metadata": {},
   "outputs": [],
   "source": []
  }
 ],
 "metadata": {
  "kernelspec": {
   "display_name": "Python 3",
   "language": "python",
   "name": "python3"
  },
  "language_info": {
   "codemirror_mode": {
    "name": "ipython",
    "version": 3
   },
   "file_extension": ".py",
   "mimetype": "text/x-python",
   "name": "python",
   "nbconvert_exporter": "python",
   "pygments_lexer": "ipython3",
   "version": "3.5.0"
  }
 },
 "nbformat": 4,
 "nbformat_minor": 2
}
