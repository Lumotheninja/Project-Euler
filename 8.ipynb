{
 "cells": [
  {
   "cell_type": "markdown",
   "metadata": {},
   "source": [
    "Find the thirteen adjacent digits in the 1000-digit number that have the greatest product. What is the value of this product?"
   ]
  },
  {
   "cell_type": "code",
   "execution_count": null,
   "metadata": {},
   "outputs": [],
   "source": [
    "f = open( 'problem8.txt','r')\n",
    "longline=''\n",
    "for lines in f:\n",
    "    if lines[-1] == '\\n':\n",
    "        longline += lines[:-1]   \n",
    "    else:\n",
    "        longline += lines\n",
    "\n",
    "num_max =0\n",
    "for index in range (len(longline)-13):\n",
    "        total = 1\n",
    "        for x in range(13):\n",
    "            total= total * int(longline[index +x])\n",
    "        if total > num_max:\n",
    "            num_max = total\n",
    "print (num_max)"
   ]
  },
  {
   "cell_type": "markdown",
   "metadata": {},
   "source": [
    "# Final Answer: 23514624000"
   ]
  },
  {
   "cell_type": "code",
   "execution_count": null,
   "metadata": {},
   "outputs": [],
   "source": []
  }
 ],
 "metadata": {
  "kernelspec": {
   "display_name": "Python 3",
   "language": "python",
   "name": "python3"
  },
  "language_info": {
   "codemirror_mode": {
    "name": "ipython",
    "version": 3
   },
   "file_extension": ".py",
   "mimetype": "text/x-python",
   "name": "python",
   "nbconvert_exporter": "python",
   "pygments_lexer": "ipython3",
   "version": "3.5.0"
  }
 },
 "nbformat": 4,
 "nbformat_minor": 2
}
