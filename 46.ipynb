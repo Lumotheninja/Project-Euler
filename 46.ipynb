{
 "cells": [
  {
   "cell_type": "markdown",
   "metadata": {},
   "source": [
    "It was proposed by Christian Goldbach that every odd composite number can be written as the sum of a prime and twice a square.\n",
    "\n",
    "9 = 7 + 2×1<sup>2</sup>  \n",
    "15 = 7 + 2×2<sup>2</sup>  \n",
    "21 = 3 + 2×3<sup>2</sup>  \n",
    "25 = 7 + 2×3<sup>2</sup>  \n",
    "27 = 19 + 2×2<sup>2</sup>  \n",
    "33 = 31 + 2×1<sup>2</sup>  \n",
    "\n",
    "It turns out that the conjecture was false.  \n",
    "\n",
    "What is the smallest odd composite that cannot be written as the sum of a prime and twice a square?"
   ]
  },
  {
   "cell_type": "code",
   "execution_count": 1,
   "metadata": {},
   "outputs": [],
   "source": [
    "def is_square(integer):\n",
    "    root = math.sqrt(integer)\n",
    "    return integer == int(root + 0.5) ** 2"
   ]
  },
  {
   "cell_type": "code",
   "execution_count": 11,
   "metadata": {},
   "outputs": [
    {
     "name": "stdout",
     "output_type": "stream",
     "text": [
      "5777\n",
      "5993\n"
     ]
    }
   ],
   "source": [
    "n = 100000000\n",
    "\n",
    "prime = [0 for i in range(n + 1)] \n",
    "primelist = [2]\n",
    "p = 2\n",
    "while (p * p <= n): \n",
    "    if p%2 == 0:\n",
    "        p += 1\n",
    "        continue\n",
    "        \n",
    "    if (prime[p] == 0):\n",
    "        primelist.append(p)\n",
    "        for i in range(p * 2, n + 1, p): \n",
    "            prime[i] += 1\n",
    "    else:\n",
    "        conjecture = False\n",
    "        for j in primelist:\n",
    "            if is_square((p-j)/2):\n",
    "                conjecture=True\n",
    "                break\n",
    "        if not conjecture:\n",
    "            print(p)\n",
    "        \n",
    "    p += 1"
   ]
  },
  {
   "cell_type": "markdown",
   "metadata": {},
   "source": [
    "# Final answer: 5777"
   ]
  },
  {
   "cell_type": "code",
   "execution_count": null,
   "metadata": {},
   "outputs": [],
   "source": []
  }
 ],
 "metadata": {
  "kernelspec": {
   "display_name": "Python 3",
   "language": "python",
   "name": "python3"
  },
  "language_info": {
   "codemirror_mode": {
    "name": "ipython",
    "version": 3
   },
   "file_extension": ".py",
   "mimetype": "text/x-python",
   "name": "python",
   "nbconvert_exporter": "python",
   "pygments_lexer": "ipython3",
   "version": "3.7.5"
  }
 },
 "nbformat": 4,
 "nbformat_minor": 2
}
