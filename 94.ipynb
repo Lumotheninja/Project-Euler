{
 "cells": [
  {
   "cell_type": "markdown",
   "metadata": {},
   "source": [
    "It is easily proved that no equilateral triangle exists with integral length sides and integral area. However, the almost equilateral triangle 5-5-6 has an area of 12 square units.\n",
    "\n",
    "We shall define an almost equilateral triangle to be a triangle for which two sides are equal and the third differs by no more than one unit.\n",
    "\n",
    "Find the sum of the perimeters of all almost equilateral triangles with integral side lengths and area and whose perimeters do not exceed one billion (1,000,000,000)."
   ]
  },
  {
   "cell_type": "markdown",
   "metadata": {},
   "source": [
    "https://en.wikipedia.org/wiki/Heronian_triangle"
   ]
  },
  {
   "cell_type": "code",
   "execution_count": 1,
   "metadata": {},
   "outputs": [],
   "source": [
    "def is_square(x):\n",
    "    if x == 0:\n",
    "        return False\n",
    "    else:\n",
    "        return x**.5%1==0"
   ]
  },
  {
   "cell_type": "code",
   "execution_count": 61,
   "metadata": {},
   "outputs": [],
   "source": [
    "count = 0\n",
    "\n",
    "for c in range(1,333333334):\n",
    "    side = c-1\n",
    "    area = (side + 2*c)*(2*c-side)*(side**2)\n",
    "    if area%16 == 0 and is_square(area/16):\n",
    "        #print(side, c)\n",
    "        count += (side + 2*c)\n",
    "        \n",
    "#     areadict[area] = (side + 2*c)\n",
    "#     if area in squaredict:\n",
    "#         print(side, c)\n",
    "#         count += (side + 2*c)\n",
    "        \n",
    "    side = c+1\n",
    "    area = (side + 2*c)*(2*c-side)*(side**2)\n",
    "    if area%16 == 0 and is_square(area/16):\n",
    "        #print(side, c)\n",
    "        count += (side + 2*c)\n",
    "        \n",
    "#     areadict[area] = (side + 2*c)\n",
    "#     if area in squaredict:\n",
    "#         print(side, c)\n",
    "#         count += (side + 2*c)"
   ]
  },
  {
   "cell_type": "code",
   "execution_count": 2,
   "metadata": {},
   "outputs": [
    {
     "data": {
      "text/plain": [
       "True"
      ]
     },
     "execution_count": 2,
     "metadata": {},
     "output_type": "execute_result"
    }
   ],
   "source": [
    "is_square(152415789666209426002111556165263283035677490)"
   ]
  },
  {
   "cell_type": "code",
   "execution_count": 5,
   "metadata": {},
   "outputs": [
    {
     "data": {
      "text/plain": [
       "1.234567898765432e+22"
      ]
     },
     "execution_count": 5,
     "metadata": {},
     "output_type": "execute_result"
    }
   ],
   "source": [
    "152415789666209426002111556165263283035677490**0.5"
   ]
  },
  {
   "cell_type": "code",
   "execution_count": null,
   "metadata": {},
   "outputs": [],
   "source": [
    "x =3 \n"
   ]
  }
 ],
 "metadata": {
  "kernelspec": {
   "display_name": "Python 3",
   "language": "python",
   "name": "python3"
  },
  "language_info": {
   "codemirror_mode": {
    "name": "ipython",
    "version": 3
   },
   "file_extension": ".py",
   "mimetype": "text/x-python",
   "name": "python",
   "nbconvert_exporter": "python",
   "pygments_lexer": "ipython3",
   "version": "3.7.5"
  }
 },
 "nbformat": 4,
 "nbformat_minor": 2
}
