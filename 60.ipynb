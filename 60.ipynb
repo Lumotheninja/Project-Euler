{
 "cells": [
  {
   "cell_type": "markdown",
   "metadata": {},
   "source": [
    "The primes 3, 7, 109, and 673, are quite remarkable. By taking any two primes and concatenating them in any order the result will always be prime. For example, taking 7 and 109, both 7109 and 1097 are prime. The sum of these four primes, 792, represents the lowest sum for a set of four primes with this property.\n",
    "\n",
    "Find the lowest sum for a set of five primes for which any two primes concatenate to produce another prime."
   ]
  },
  {
   "cell_type": "code",
   "execution_count": 2,
   "metadata": {},
   "outputs": [],
   "source": [
    "from collections import OrderedDict\n",
    "\n",
    "n = 100000000\n",
    "\n",
    "prime = [0 for i in range(n + 1)] \n",
    "primedict = OrderedDict()\n",
    "\n",
    "p = 2\n",
    "while (p < n): \n",
    "    if (prime[p] == 0):\n",
    "        digits = len(str(p))\n",
    "        primedict[str(p)] = True\n",
    "        if 2*p < n:\n",
    "            for i in range(p * 2, n + 1, p): \n",
    "                prime[i] += 1\n",
    "    p += 1"
   ]
  },
  {
   "cell_type": "code",
   "execution_count": 4,
   "metadata": {},
   "outputs": [],
   "source": [
    "def check_cond(a,b,primedict):\n",
    "    return a+b in primedict and b+a in primedict and a in primedict and b in primedict"
   ]
  },
  {
   "cell_type": "code",
   "execution_count": 28,
   "metadata": {},
   "outputs": [],
   "source": [
    "def check_cond2(a,b,primedict):\n",
    "    return a+b in primedict and b+a in primedict"
   ]
  },
  {
   "cell_type": "code",
   "execution_count": 47,
   "metadata": {},
   "outputs": [
    {
     "name": "stdout",
     "output_type": "stream",
     "text": [
      "8389 ['6733', '5701', '5197', '13']\n",
      "8389 ['6733', '5197', '5701', '13']\n",
      "8389 ['6733', '5701', '5197', '13']\n",
      "8389 ['6733', '5701', '5197', '13']\n",
      "6733 ['8389', '5701', '5197', '13']\n",
      "6733 ['8389', '5197', '5701', '13']\n",
      "6733 ['8389', '5701', '5197', '13']\n",
      "6733 ['8389', '5701', '5197', '13']\n",
      "5701 ['8389', '6733', '5197', '13']\n",
      "5701 ['8389', '6733', '5197', '13']\n",
      "5701 ['8389', '6733', '5197', '13']\n",
      "5701 ['8389', '6733', '5197', '13']\n",
      "5197 ['6733', '5701', '8389', '13']\n",
      "5197 ['6733', '8389', '5701', '13']\n",
      "13 ['8389', '6733', '5701', '5197']\n",
      "8389 ['6733', '5701', '5197', '13']\n",
      "8389 ['6733', '5197', '5701', '13']\n",
      "8389 ['6733', '5701', '5197', '13']\n",
      "8389 ['6733', '5701', '5197', '13']\n",
      "13 ['8389', '5701', '5197', '6733']\n",
      "6733 ['8389', '5701', '5197', '13']\n",
      "6733 ['8389', '5197', '5701', '13']\n",
      "6733 ['8389', '5701', '5197', '13']\n",
      "6733 ['8389', '5701', '5197', '13']\n",
      "13 ['8389', '6733', '5197', '5701']\n",
      "13 ['8389', '5197', '6733', '5701']\n",
      "5701 ['8389', '6733', '5197', '13']\n",
      "5701 ['8389', '6733', '5197', '13']\n",
      "5701 ['8389', '6733', '5197', '13']\n",
      "5701 ['8389', '6733', '5197', '13']\n",
      "13 ['8389', '6733', '5701', '5197']\n",
      "13 ['8389', '5701', '6733', '5197']\n",
      "13 ['8389', '6733', '5701', '5197']\n",
      "13 ['8389', '6733', '5701', '5197']\n",
      "5197 ['6733', '5701', '8389', '13']\n",
      "5197 ['6733', '8389', '5701', '13']\n"
     ]
    }
   ],
   "source": [
    "from collections import defaultdict\n",
    "\n",
    "primecountdict = defaultdict(list)\n",
    "\n",
    "for prime in reversed(primedict.keys()):\n",
    "    for digit in range(1, len(prime)):\n",
    "        a = prime[:digit]\n",
    "        b = prime[digit:]\n",
    "\n",
    "        if check_cond(a, b, primedict):\n",
    "          \n",
    "            # check b\n",
    "            addb = True\n",
    "            for primelist in primecountdict[a]:\n",
    "                if b in primelist:\n",
    "                    addb = False\n",
    "                    continue\n",
    "                compatible = True\n",
    "                for elem in primelist:\n",
    "                    if not check_cond2(elem, b, primedict):\n",
    "                        compatible = False\n",
    "                        break\n",
    "                if compatible:\n",
    "                    # create a new list\n",
    "                    if len(primelist) == 3:\n",
    "                        print (a, primelist + [b])\n",
    "                    primecountdict[a].append(primelist + [b])\n",
    "            if addb:\n",
    "                primecountdict[a].append([b])\n",
    "            \n",
    "            adda = True\n",
    "            for primelist in primecountdict[b]:\n",
    "                if a in primelist:\n",
    "                    adda = False\n",
    "                    continue\n",
    "                compatible = True\n",
    "                for elem in primelist:\n",
    "                    if not check_cond2(elem, a, primedict):\n",
    "                        compatible = False\n",
    "                        break\n",
    "                if compatible:\n",
    "                    # create a new list\n",
    "                    if len(primelist) == 3:\n",
    "                        print (b, primelist + [a])\n",
    "                    primecountdict[b].append(primelist + [a])\n",
    "            if adda:\n",
    "                primecountdict[b].append([a])"
   ]
  },
  {
   "cell_type": "code",
   "execution_count": 48,
   "metadata": {},
   "outputs": [
    {
     "data": {
      "text/plain": [
       "26033"
      ]
     },
     "execution_count": 48,
     "metadata": {},
     "output_type": "execute_result"
    }
   ],
   "source": [
    "8389 + 6733 + 5701 + 5197 + 13"
   ]
  },
  {
   "cell_type": "markdown",
   "metadata": {},
   "source": [
    "# Final answer: 26033"
   ]
  },
  {
   "cell_type": "code",
   "execution_count": null,
   "metadata": {},
   "outputs": [],
   "source": []
  }
 ],
 "metadata": {
  "kernelspec": {
   "display_name": "Python 3",
   "language": "python",
   "name": "python3"
  },
  "language_info": {
   "codemirror_mode": {
    "name": "ipython",
    "version": 3
   },
   "file_extension": ".py",
   "mimetype": "text/x-python",
   "name": "python",
   "nbconvert_exporter": "python",
   "pygments_lexer": "ipython3",
   "version": "3.7.5"
  }
 },
 "nbformat": 4,
 "nbformat_minor": 2
}
