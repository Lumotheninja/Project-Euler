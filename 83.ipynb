{
 "cells": [
  {
   "cell_type": "markdown",
   "metadata": {},
   "source": [
    "In the 5 by 5 matrix below, the minimal path sum from the top left to the bottom right, by moving left, right, up, and down, is indicated in bold red and is equal to 2297.\n",
    "\n",
    "\n",
    "Find the minimal path sum from the top left to the bottom right by moving left, right, up, and down in matrix.txt (right click and \"Save Link/Target As...\"), a 31K text file containing an 80 by 80 matrix."
   ]
  },
  {
   "cell_type": "code",
   "execution_count": 2,
   "metadata": {},
   "outputs": [],
   "source": [
    "with open('p083_matrix.txt') as file:\n",
    "    path_list = [[int(x) for x in line.strip('\\n').split(',')] for line in file.readlines()]"
   ]
  },
  {
   "cell_type": "code",
   "execution_count": 23,
   "metadata": {},
   "outputs": [],
   "source": [
    "path_list_test = [[131, 673, 234, 103, 18],[201, 96, 342, 965, 150],[630, 803, 746, 422, 111],[537, 699, 497, 121, 956],[805, 732, 524, 37, 331]]"
   ]
  },
  {
   "cell_type": "code",
   "execution_count": 37,
   "metadata": {},
   "outputs": [],
   "source": [
    "n = 80\n",
    "cost_list = [[100000000000000000000000]*(n) for i in range(n)]\n",
    "cost_list[0][0] = 0"
   ]
  },
  {
   "cell_type": "code",
   "execution_count": 38,
   "metadata": {},
   "outputs": [
    {
     "name": "stdout",
     "output_type": "stream",
     "text": [
      "6399\r"
     ]
    }
   ],
   "source": [
    "for v in range(n**2):\n",
    "    print (v, end=\"\\r\")\n",
    "    for i in range(n):\n",
    "        for j in range(n):\n",
    "            if i != 0: \n",
    "                cost_list[i-1][j] = min(cost_list[i-1][j], cost_list[i][j] + path_list[i][j])\n",
    "            if i != (n-1):\n",
    "                cost_list[i+1][j] = min(cost_list[i+1][j], cost_list[i][j] + path_list[i][j])\n",
    "            if j != 0:\n",
    "                cost_list[i][j-1] = min(cost_list[i][j-1], cost_list[i][j] + path_list[i][j])\n",
    "            if j != (n-1):\n",
    "                cost_list[i][j+1] = min(cost_list[i][j+1], cost_list[i][j] + path_list[i][j])"
   ]
  },
  {
   "cell_type": "code",
   "execution_count": 39,
   "metadata": {},
   "outputs": [
    {
     "data": {
      "text/plain": [
       "425185"
      ]
     },
     "execution_count": 39,
     "metadata": {},
     "output_type": "execute_result"
    }
   ],
   "source": [
    "cost_list[79][79] + path_list[79][79]"
   ]
  },
  {
   "cell_type": "code",
   "execution_count": 35,
   "metadata": {},
   "outputs": [
    {
     "data": {
      "text/plain": [
       "7981"
      ]
     },
     "execution_count": 35,
     "metadata": {},
     "output_type": "execute_result"
    }
   ],
   "source": [
    "path_list[79][79]"
   ]
  },
  {
   "cell_type": "code",
   "execution_count": null,
   "metadata": {},
   "outputs": [],
   "source": []
  }
 ],
 "metadata": {
  "kernelspec": {
   "display_name": "Python 3",
   "language": "python",
   "name": "python3"
  },
  "language_info": {
   "codemirror_mode": {
    "name": "ipython",
    "version": 3
   },
   "file_extension": ".py",
   "mimetype": "text/x-python",
   "name": "python",
   "nbconvert_exporter": "python",
   "pygments_lexer": "ipython3",
   "version": "3.7.5"
  }
 },
 "nbformat": 4,
 "nbformat_minor": 2
}
