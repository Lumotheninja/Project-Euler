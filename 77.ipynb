{
 "cells": [
  {
   "cell_type": "markdown",
   "metadata": {},
   "source": [
    "It is possible to write ten as the sum of primes in exactly five different ways:\n",
    "\n",
    "7 + 3  \n",
    "5 + 5  \n",
    "5 + 3 + 2  \n",
    "3 + 3 + 2 + 2  \n",
    "2 + 2 + 2 + 2 + 2  \n",
    "\n",
    "What is the first value which can be written as the sum of primes in over five thousand different ways?"
   ]
  },
  {
   "cell_type": "code",
   "execution_count": 1,
   "metadata": {},
   "outputs": [],
   "source": [
    "n = 2000\n",
    "\n",
    "prime = [True for i in range(n + 1)] \n",
    "prime_list = []\n",
    "\n",
    "p = 2\n",
    "while (p * 2 <= n): \n",
    "    if prime[p]: \n",
    "        prime_list.append(p)\n",
    "        for i in range(p * 2, n + 1, p): \n",
    "            prime[i] = False\n",
    "    p += 1"
   ]
  },
  {
   "cell_type": "code",
   "execution_count": 3,
   "metadata": {},
   "outputs": [
    {
     "name": "stdout",
     "output_type": "stream",
     "text": [
      "4\n"
     ]
    }
   ],
   "source": [
    "# Dynamic Programming Python implementation of Coin  \n",
    "# Change problem \n",
    "def count(S, m, n): \n",
    "    # We need n+1 rows as the table is constructed  \n",
    "    # in bottom up manner using the base case 0 value \n",
    "    # case (n = 0) \n",
    "    table = [[0 for x in range(m)] for x in range(n+1)] \n",
    "  \n",
    "    # Fill the entries for 0 value case (n = 0) \n",
    "    for i in range(m): \n",
    "        table[0][i] = 1\n",
    "  \n",
    "    # Fill rest of the table entries in bottom up manner \n",
    "    for i in range(1, n+1): \n",
    "        for j in range(m): \n",
    "  \n",
    "            # Count of solutions including S[j] \n",
    "            x = table[i - S[j]][j] if i-S[j] >= 0 else 0\n",
    "  \n",
    "            # Count of solutions excluding S[j] \n",
    "            y = table[i][j-1] if j >= 1 else 0\n",
    "  \n",
    "            # total count \n",
    "            table[i][j] = x + y \n",
    "  \n",
    "    return table[n][m-1] \n",
    "  \n",
    "# Driver program to test above function \n",
    "arr = [1, 2, 3] \n",
    "m = len(arr) \n",
    "n = 4\n",
    "print(count(arr, m, n)) \n",
    "  \n",
    "# This code is contributed by Bhavya Jain "
   ]
  },
  {
   "cell_type": "code",
   "execution_count": 6,
   "metadata": {},
   "outputs": [],
   "source": [
    "ways = 0\n",
    "x = 1\n",
    "while ways <= 5000:\n",
    "    ways = count(prime_list, len(prime_list), x)\n",
    "    x += 1"
   ]
  },
  {
   "cell_type": "code",
   "execution_count": 9,
   "metadata": {},
   "outputs": [
    {
     "data": {
      "text/plain": [
       "71"
      ]
     },
     "execution_count": 9,
     "metadata": {},
     "output_type": "execute_result"
    }
   ],
   "source": [
    "x - 1"
   ]
  },
  {
   "cell_type": "code",
   "execution_count": 8,
   "metadata": {},
   "outputs": [
    {
     "data": {
      "text/plain": [
       "5419"
      ]
     },
     "execution_count": 8,
     "metadata": {},
     "output_type": "execute_result"
    }
   ],
   "source": [
    "count(prime_list, len(prime_list), 72)"
   ]
  },
  {
   "cell_type": "code",
   "execution_count": null,
   "metadata": {},
   "outputs": [],
   "source": []
  }
 ],
 "metadata": {
  "kernelspec": {
   "display_name": "Python 3",
   "language": "python",
   "name": "python3"
  },
  "language_info": {
   "codemirror_mode": {
    "name": "ipython",
    "version": 3
   },
   "file_extension": ".py",
   "mimetype": "text/x-python",
   "name": "python",
   "nbconvert_exporter": "python",
   "pygments_lexer": "ipython3",
   "version": "3.7.5"
  }
 },
 "nbformat": 4,
 "nbformat_minor": 2
}
