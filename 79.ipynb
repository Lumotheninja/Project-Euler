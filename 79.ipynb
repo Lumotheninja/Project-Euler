{
 "cells": [
  {
   "cell_type": "markdown",
   "metadata": {},
   "source": [
    "A common security method used for online banking is to ask the user for three random characters from a passcode. For example, if the passcode was 531278, they may ask for the 2nd, 3rd, and 5th characters; the expected reply would be: 317.\n",
    "\n",
    "The text file, keylog.txt, contains fifty successful login attempts.\n",
    "\n",
    "Given that the three characters are always asked for in order, analyse the file so as to determine the shortest possible secret passcode of unknown length."
   ]
  },
  {
   "cell_type": "markdown",
   "metadata": {},
   "source": [
    "# Brute force approach"
   ]
  },
  {
   "cell_type": "code",
   "execution_count": 1,
   "metadata": {},
   "outputs": [],
   "source": [
    "import re\n",
    "\n",
    "with open(\"p079_keylog.txt\") as file:\n",
    "    key_list = [re.compile(\".*\" + \".*\".join(list(x.strip(\"\\n\"))) + \".*\") for x in file.readlines()]"
   ]
  },
  {
   "cell_type": "code",
   "execution_count": 2,
   "metadata": {},
   "outputs": [
    {
     "data": {
      "text/plain": [
       "[re.compile(r'.*3.*1.*9.*', re.UNICODE),\n",
       " re.compile(r'.*6.*8.*0.*', re.UNICODE),\n",
       " re.compile(r'.*1.*8.*0.*', re.UNICODE),\n",
       " re.compile(r'.*6.*9.*0.*', re.UNICODE),\n",
       " re.compile(r'.*1.*2.*9.*', re.UNICODE),\n",
       " re.compile(r'.*6.*2.*0.*', re.UNICODE),\n",
       " re.compile(r'.*7.*6.*2.*', re.UNICODE),\n",
       " re.compile(r'.*6.*8.*9.*', re.UNICODE),\n",
       " re.compile(r'.*7.*6.*2.*', re.UNICODE),\n",
       " re.compile(r'.*3.*1.*8.*', re.UNICODE),\n",
       " re.compile(r'.*3.*6.*8.*', re.UNICODE),\n",
       " re.compile(r'.*7.*1.*0.*', re.UNICODE),\n",
       " re.compile(r'.*7.*2.*0.*', re.UNICODE),\n",
       " re.compile(r'.*7.*1.*0.*', re.UNICODE),\n",
       " re.compile(r'.*6.*2.*9.*', re.UNICODE),\n",
       " re.compile(r'.*1.*6.*8.*', re.UNICODE),\n",
       " re.compile(r'.*1.*6.*0.*', re.UNICODE),\n",
       " re.compile(r'.*6.*8.*9.*', re.UNICODE),\n",
       " re.compile(r'.*7.*1.*6.*', re.UNICODE),\n",
       " re.compile(r'.*7.*3.*1.*', re.UNICODE),\n",
       " re.compile(r'.*7.*3.*6.*', re.UNICODE),\n",
       " re.compile(r'.*7.*2.*9.*', re.UNICODE),\n",
       " re.compile(r'.*3.*1.*6.*', re.UNICODE),\n",
       " re.compile(r'.*7.*2.*9.*', re.UNICODE),\n",
       " re.compile(r'.*7.*2.*9.*', re.UNICODE),\n",
       " re.compile(r'.*7.*1.*0.*', re.UNICODE),\n",
       " re.compile(r'.*7.*6.*9.*', re.UNICODE),\n",
       " re.compile(r'.*2.*9.*0.*', re.UNICODE),\n",
       " re.compile(r'.*7.*1.*9.*', re.UNICODE),\n",
       " re.compile(r'.*6.*8.*0.*', re.UNICODE),\n",
       " re.compile(r'.*3.*1.*8.*', re.UNICODE),\n",
       " re.compile(r'.*3.*8.*9.*', re.UNICODE),\n",
       " re.compile(r'.*1.*6.*2.*', re.UNICODE),\n",
       " re.compile(r'.*2.*8.*9.*', re.UNICODE),\n",
       " re.compile(r'.*1.*6.*2.*', re.UNICODE),\n",
       " re.compile(r'.*7.*1.*8.*', re.UNICODE),\n",
       " re.compile(r'.*7.*2.*9.*', re.UNICODE),\n",
       " re.compile(r'.*3.*1.*9.*', re.UNICODE),\n",
       " re.compile(r'.*7.*9.*0.*', re.UNICODE),\n",
       " re.compile(r'.*6.*8.*0.*', re.UNICODE),\n",
       " re.compile(r'.*8.*9.*0.*', re.UNICODE),\n",
       " re.compile(r'.*3.*6.*2.*', re.UNICODE),\n",
       " re.compile(r'.*3.*1.*9.*', re.UNICODE),\n",
       " re.compile(r'.*7.*6.*0.*', re.UNICODE),\n",
       " re.compile(r'.*3.*1.*6.*', re.UNICODE),\n",
       " re.compile(r'.*7.*2.*9.*', re.UNICODE),\n",
       " re.compile(r'.*3.*8.*0.*', re.UNICODE),\n",
       " re.compile(r'.*3.*1.*9.*', re.UNICODE),\n",
       " re.compile(r'.*7.*2.*8.*', re.UNICODE),\n",
       " re.compile(r'.*7.*1.*6.*', re.UNICODE)]"
      ]
     },
     "execution_count": 2,
     "metadata": {},
     "output_type": "execute_result"
    }
   ],
   "source": [
    "key_list"
   ]
  },
  {
   "cell_type": "code",
   "execution_count": 3,
   "metadata": {},
   "outputs": [
    {
     "ename": "KeyboardInterrupt",
     "evalue": "",
     "output_type": "error",
     "traceback": [
      "\u001b[1;31m---------------------------------------------------------------------------\u001b[0m",
      "\u001b[1;31mKeyboardInterrupt\u001b[0m                         Traceback (most recent call last)",
      "\u001b[1;32m<ipython-input-3-d632cac65fd6>\u001b[0m in \u001b[0;36m<module>\u001b[1;34m\u001b[0m\n\u001b[0;32m      7\u001b[0m         \u001b[0msuperstr\u001b[0m \u001b[1;33m=\u001b[0m \u001b[0mstr\u001b[0m\u001b[1;33m(\u001b[0m\u001b[0mx\u001b[0m\u001b[1;33m)\u001b[0m\u001b[1;33m\u001b[0m\u001b[1;33m\u001b[0m\u001b[0m\n\u001b[0;32m      8\u001b[0m         \u001b[1;32mfor\u001b[0m \u001b[0mpatterns\u001b[0m \u001b[1;32min\u001b[0m \u001b[0mkey_list\u001b[0m\u001b[1;33m:\u001b[0m\u001b[1;33m\u001b[0m\u001b[1;33m\u001b[0m\u001b[0m\n\u001b[1;32m----> 9\u001b[1;33m             \u001b[1;32mif\u001b[0m \u001b[1;32mnot\u001b[0m \u001b[0mpatterns\u001b[0m\u001b[1;33m.\u001b[0m\u001b[0msearch\u001b[0m\u001b[1;33m(\u001b[0m\u001b[0msuperstr\u001b[0m\u001b[1;33m)\u001b[0m\u001b[1;33m:\u001b[0m\u001b[1;33m\u001b[0m\u001b[1;33m\u001b[0m\u001b[0m\n\u001b[0m\u001b[0;32m     10\u001b[0m                 \u001b[0mallmatch\u001b[0m \u001b[1;33m=\u001b[0m \u001b[1;32mFalse\u001b[0m\u001b[1;33m\u001b[0m\u001b[1;33m\u001b[0m\u001b[0m\n\u001b[0;32m     11\u001b[0m                 \u001b[1;32mbreak\u001b[0m\u001b[1;33m\u001b[0m\u001b[1;33m\u001b[0m\u001b[0m\n",
      "\u001b[1;31mKeyboardInterrupt\u001b[0m: "
     ]
    }
   ],
   "source": [
    "completed = False\n",
    "\n",
    "digits = 8\n",
    "while not completed:\n",
    "    for x in range(10**digits, 10**(digits+1)):\n",
    "        allmatch = True\n",
    "        superstr = str(x)\n",
    "        for patterns in key_list:\n",
    "            if not patterns.search(superstr):\n",
    "                allmatch = False\n",
    "                break\n",
    "        if allmatch:\n",
    "            print(superstr)\n",
    "            completed = True\n",
    "            break\n",
    "    digits += 1"
   ]
  },
  {
   "cell_type": "markdown",
   "metadata": {},
   "source": [
    "# Final answer: 73162890"
   ]
  },
  {
   "cell_type": "code",
   "execution_count": null,
   "metadata": {},
   "outputs": [],
   "source": []
  }
 ],
 "metadata": {
  "kernelspec": {
   "display_name": "Python 3",
   "language": "python",
   "name": "python3"
  },
  "language_info": {
   "codemirror_mode": {
    "name": "ipython",
    "version": 3
   },
   "file_extension": ".py",
   "mimetype": "text/x-python",
   "name": "python",
   "nbconvert_exporter": "python",
   "pygments_lexer": "ipython3",
   "version": "3.7.5"
  }
 },
 "nbformat": 4,
 "nbformat_minor": 2
}
