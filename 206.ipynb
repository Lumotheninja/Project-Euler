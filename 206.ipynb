{
 "cells": [
  {
   "cell_type": "markdown",
   "metadata": {},
   "source": [
    "Find the unique positive integer whose square has the form 1_2_3_4_5_6_7_8_9_0,\n",
    "where each “_” is a single digit."
   ]
  },
  {
   "cell_type": "code",
   "execution_count": 14,
   "metadata": {},
   "outputs": [
    {
     "name": "stdout",
     "output_type": "stream",
     "text": [
      "1389019170\n"
     ]
    }
   ],
   "source": [
    "import math\n",
    "\n",
    "for x in range(1,1000000000):\n",
    "    numstr = \"\"\n",
    "    blankstr = str(x).zfill(9)\n",
    "    for ind,char in enumerate(blankstr):\n",
    "        numstr += str(ind+1)\n",
    "        numstr += char\n",
    "    numstr += \"0\"\n",
    "    numstr = int(numstr)\n",
    "    s = int(math.sqrt(numstr))\n",
    "    if ((s * s) == numstr):\n",
    "        print(s)"
   ]
  },
  {
   "cell_type": "code",
   "execution_count": 15,
   "metadata": {},
   "outputs": [
    {
     "data": {
      "text/plain": [
       "1929374254627488900"
      ]
     },
     "execution_count": 15,
     "metadata": {},
     "output_type": "execute_result"
    }
   ],
   "source": [
    "1389019170**2"
   ]
  },
  {
   "cell_type": "markdown",
   "metadata": {},
   "source": [
    "# Final answer: 1389019170"
   ]
  },
  {
   "cell_type": "code",
   "execution_count": null,
   "metadata": {},
   "outputs": [],
   "source": []
  }
 ],
 "metadata": {
  "kernelspec": {
   "display_name": "Python 3",
   "language": "python",
   "name": "python3"
  },
  "language_info": {
   "codemirror_mode": {
    "name": "ipython",
    "version": 3
   },
   "file_extension": ".py",
   "mimetype": "text/x-python",
   "name": "python",
   "nbconvert_exporter": "python",
   "pygments_lexer": "ipython3",
   "version": "3.7.5"
  }
 },
 "nbformat": 4,
 "nbformat_minor": 2
}
